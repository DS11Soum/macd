{
 "cells": [
  {
   "cell_type": "code",
   "execution_count": 24,
   "id": "c0d6deec",
   "metadata": {},
   "outputs": [],
   "source": [
    "import pandas as pd\n",
    "import numpy as np\n",
    "from mod_my_utils.read_write_data import get_price_csv\n"
   ]
  },
  {
   "cell_type": "markdown",
   "id": "73917f74",
   "metadata": {},
   "source": [
    "### Get stock data"
   ]
  },
  {
   "cell_type": "code",
   "execution_count": 3,
   "id": "410d3371",
   "metadata": {},
   "outputs": [],
   "source": [
    "folder_path = 'data/'\n",
    "stock_name = 'AAPL'\n",
    "index_col = 'Date'"
   ]
  },
  {
   "cell_type": "code",
   "execution_count": 4,
   "id": "ca55e943",
   "metadata": {},
   "outputs": [
    {
     "name": "stdout",
     "output_type": "stream",
     "text": [
      "stock name:  AAPL\n"
     ]
    }
   ],
   "source": [
    "stock_data = get_price_csv(folder_name=folder_path,symbol=stock_name, index_col=index_col)"
   ]
  },
  {
   "cell_type": "code",
   "execution_count": 5,
   "id": "866858ba",
   "metadata": {},
   "outputs": [
    {
     "data": {
      "text/html": [
       "<div>\n",
       "<style scoped>\n",
       "    .dataframe tbody tr th:only-of-type {\n",
       "        vertical-align: middle;\n",
       "    }\n",
       "\n",
       "    .dataframe tbody tr th {\n",
       "        vertical-align: top;\n",
       "    }\n",
       "\n",
       "    .dataframe thead th {\n",
       "        text-align: right;\n",
       "    }\n",
       "</style>\n",
       "<table border=\"1\" class=\"dataframe\">\n",
       "  <thead>\n",
       "    <tr style=\"text-align: right;\">\n",
       "      <th></th>\n",
       "      <th>Open</th>\n",
       "      <th>High</th>\n",
       "      <th>Low</th>\n",
       "      <th>Close</th>\n",
       "      <th>Volume</th>\n",
       "      <th>Ex-Dividend</th>\n",
       "      <th>Split Ratio</th>\n",
       "      <th>Adj. Open</th>\n",
       "      <th>Adj. High</th>\n",
       "      <th>Adj. Low</th>\n",
       "      <th>Adj. Close</th>\n",
       "      <th>Adj. Volume</th>\n",
       "    </tr>\n",
       "    <tr>\n",
       "      <th>Date</th>\n",
       "      <th></th>\n",
       "      <th></th>\n",
       "      <th></th>\n",
       "      <th></th>\n",
       "      <th></th>\n",
       "      <th></th>\n",
       "      <th></th>\n",
       "      <th></th>\n",
       "      <th></th>\n",
       "      <th></th>\n",
       "      <th></th>\n",
       "      <th></th>\n",
       "    </tr>\n",
       "  </thead>\n",
       "  <tbody>\n",
       "    <tr>\n",
       "      <th>2007-12-03</th>\n",
       "      <td>181.86</td>\n",
       "      <td>184.14</td>\n",
       "      <td>177.70</td>\n",
       "      <td>178.8600</td>\n",
       "      <td>34338200.0</td>\n",
       "      <td>0.0</td>\n",
       "      <td>1.0</td>\n",
       "      <td>23.371545</td>\n",
       "      <td>23.664556</td>\n",
       "      <td>22.836927</td>\n",
       "      <td>22.986003</td>\n",
       "      <td>240367400.0</td>\n",
       "    </tr>\n",
       "    <tr>\n",
       "      <th>2007-12-04</th>\n",
       "      <td>177.15</td>\n",
       "      <td>180.90</td>\n",
       "      <td>176.99</td>\n",
       "      <td>179.8100</td>\n",
       "      <td>27635700.0</td>\n",
       "      <td>0.0</td>\n",
       "      <td>1.0</td>\n",
       "      <td>22.766244</td>\n",
       "      <td>23.248171</td>\n",
       "      <td>22.745682</td>\n",
       "      <td>23.108091</td>\n",
       "      <td>193449900.0</td>\n",
       "    </tr>\n",
       "    <tr>\n",
       "      <th>2007-12-05</th>\n",
       "      <td>182.89</td>\n",
       "      <td>186.00</td>\n",
       "      <td>182.41</td>\n",
       "      <td>185.5000</td>\n",
       "      <td>31871500.0</td>\n",
       "      <td>0.0</td>\n",
       "      <td>1.0</td>\n",
       "      <td>23.503914</td>\n",
       "      <td>23.903592</td>\n",
       "      <td>23.442227</td>\n",
       "      <td>23.839335</td>\n",
       "      <td>223100500.0</td>\n",
       "    </tr>\n",
       "    <tr>\n",
       "      <th>2007-12-06</th>\n",
       "      <td>186.19</td>\n",
       "      <td>190.10</td>\n",
       "      <td>186.12</td>\n",
       "      <td>189.9528</td>\n",
       "      <td>32136100.0</td>\n",
       "      <td>0.0</td>\n",
       "      <td>1.0</td>\n",
       "      <td>23.928010</td>\n",
       "      <td>24.430500</td>\n",
       "      <td>23.919014</td>\n",
       "      <td>24.411582</td>\n",
       "      <td>224952700.0</td>\n",
       "    </tr>\n",
       "    <tr>\n",
       "      <th>2007-12-07</th>\n",
       "      <td>190.54</td>\n",
       "      <td>194.99</td>\n",
       "      <td>188.04</td>\n",
       "      <td>194.3000</td>\n",
       "      <td>38073800.0</td>\n",
       "      <td>0.0</td>\n",
       "      <td>1.0</td>\n",
       "      <td>24.487046</td>\n",
       "      <td>25.058933</td>\n",
       "      <td>24.165761</td>\n",
       "      <td>24.970258</td>\n",
       "      <td>266516600.0</td>\n",
       "    </tr>\n",
       "  </tbody>\n",
       "</table>\n",
       "</div>"
      ],
      "text/plain": [
       "              Open    High     Low     Close      Volume  Ex-Dividend  \\\n",
       "Date                                                                    \n",
       "2007-12-03  181.86  184.14  177.70  178.8600  34338200.0          0.0   \n",
       "2007-12-04  177.15  180.90  176.99  179.8100  27635700.0          0.0   \n",
       "2007-12-05  182.89  186.00  182.41  185.5000  31871500.0          0.0   \n",
       "2007-12-06  186.19  190.10  186.12  189.9528  32136100.0          0.0   \n",
       "2007-12-07  190.54  194.99  188.04  194.3000  38073800.0          0.0   \n",
       "\n",
       "            Split Ratio  Adj. Open  Adj. High   Adj. Low  Adj. Close  \\\n",
       "Date                                                                   \n",
       "2007-12-03          1.0  23.371545  23.664556  22.836927   22.986003   \n",
       "2007-12-04          1.0  22.766244  23.248171  22.745682   23.108091   \n",
       "2007-12-05          1.0  23.503914  23.903592  23.442227   23.839335   \n",
       "2007-12-06          1.0  23.928010  24.430500  23.919014   24.411582   \n",
       "2007-12-07          1.0  24.487046  25.058933  24.165761   24.970258   \n",
       "\n",
       "            Adj. Volume  \n",
       "Date                     \n",
       "2007-12-03  240367400.0  \n",
       "2007-12-04  193449900.0  \n",
       "2007-12-05  223100500.0  \n",
       "2007-12-06  224952700.0  \n",
       "2007-12-07  266516600.0  "
      ]
     },
     "execution_count": 5,
     "metadata": {},
     "output_type": "execute_result"
    }
   ],
   "source": [
    "stock_data.head()"
   ]
  },
  {
   "cell_type": "code",
   "execution_count": 6,
   "id": "0ad3ae09",
   "metadata": {},
   "outputs": [
    {
     "data": {
      "text/html": [
       "<div>\n",
       "<style scoped>\n",
       "    .dataframe tbody tr th:only-of-type {\n",
       "        vertical-align: middle;\n",
       "    }\n",
       "\n",
       "    .dataframe tbody tr th {\n",
       "        vertical-align: top;\n",
       "    }\n",
       "\n",
       "    .dataframe thead th {\n",
       "        text-align: right;\n",
       "    }\n",
       "</style>\n",
       "<table border=\"1\" class=\"dataframe\">\n",
       "  <thead>\n",
       "    <tr style=\"text-align: right;\">\n",
       "      <th></th>\n",
       "      <th>price</th>\n",
       "    </tr>\n",
       "    <tr>\n",
       "      <th>Date</th>\n",
       "      <th></th>\n",
       "    </tr>\n",
       "  </thead>\n",
       "  <tbody>\n",
       "    <tr>\n",
       "      <th>2007-12-03</th>\n",
       "      <td>22.986003</td>\n",
       "    </tr>\n",
       "    <tr>\n",
       "      <th>2007-12-04</th>\n",
       "      <td>23.108091</td>\n",
       "    </tr>\n",
       "    <tr>\n",
       "      <th>2007-12-05</th>\n",
       "      <td>23.839335</td>\n",
       "    </tr>\n",
       "    <tr>\n",
       "      <th>2007-12-06</th>\n",
       "      <td>24.411582</td>\n",
       "    </tr>\n",
       "    <tr>\n",
       "      <th>2007-12-07</th>\n",
       "      <td>24.970258</td>\n",
       "    </tr>\n",
       "  </tbody>\n",
       "</table>\n",
       "</div>"
      ],
      "text/plain": [
       "                price\n",
       "Date                 \n",
       "2007-12-03  22.986003\n",
       "2007-12-04  23.108091\n",
       "2007-12-05  23.839335\n",
       "2007-12-06  24.411582\n",
       "2007-12-07  24.970258"
      ]
     },
     "execution_count": 6,
     "metadata": {},
     "output_type": "execute_result"
    }
   ],
   "source": [
    "data = stock_data[[\"Adj. Close\"]].copy()\n",
    "data.columns = [\"price\"]\n",
    "data.head()"
   ]
  },
  {
   "cell_type": "code",
   "execution_count": 7,
   "id": "e68e9a8e",
   "metadata": {},
   "outputs": [
    {
     "data": {
      "text/plain": [
       "<AxesSubplot:xlabel='Date'>"
      ]
     },
     "execution_count": 7,
     "metadata": {},
     "output_type": "execute_result"
    },
    {
     "data": {
      "image/png": "[encoded data removed]",
      "text/plain": [
       "<Figure size 432x288 with 1 Axes>"
      ]
     },
     "metadata": {
      "needs_background": "light"
     },
     "output_type": "display_data"
    }
   ],
   "source": [
    "data.plot()"
   ]
  },
  {
   "cell_type": "code",
   "execution_count": null,
   "id": "060902ec",
   "metadata": {},
   "outputs": [],
   "source": []
  },
  {
   "cell_type": "markdown",
   "id": "36cadc1c",
   "metadata": {},
   "source": [
    "<img src=\"img/macd1.png\" alt=\"drawing\" style=\"width:600px;\"/>"
   ]
  },
  {
   "cell_type": "markdown",
   "id": "8c04ef53",
   "metadata": {},
   "source": [
    "<img src=\"img/macd2.png\" alt=\"drawing\" style=\"width:600px;\"/>"
   ]
  },
  {
   "cell_type": "code",
   "execution_count": 8,
   "id": "70841521",
   "metadata": {},
   "outputs": [
    {
     "data": {
      "text/html": [
       "<div>\n",
       "<style scoped>\n",
       "    .dataframe tbody tr th:only-of-type {\n",
       "        vertical-align: middle;\n",
       "    }\n",
       "\n",
       "    .dataframe tbody tr th {\n",
       "        vertical-align: top;\n",
       "    }\n",
       "\n",
       "    .dataframe thead th {\n",
       "        text-align: right;\n",
       "    }\n",
       "</style>\n",
       "<table border=\"1\" class=\"dataframe\">\n",
       "  <thead>\n",
       "    <tr style=\"text-align: right;\">\n",
       "      <th></th>\n",
       "      <th>price</th>\n",
       "    </tr>\n",
       "    <tr>\n",
       "      <th>Date</th>\n",
       "      <th></th>\n",
       "    </tr>\n",
       "  </thead>\n",
       "  <tbody>\n",
       "    <tr>\n",
       "      <th>2007-12-03</th>\n",
       "      <td>22.986003</td>\n",
       "    </tr>\n",
       "    <tr>\n",
       "      <th>2007-12-04</th>\n",
       "      <td>23.108091</td>\n",
       "    </tr>\n",
       "    <tr>\n",
       "      <th>2007-12-05</th>\n",
       "      <td>23.839335</td>\n",
       "    </tr>\n",
       "    <tr>\n",
       "      <th>2007-12-06</th>\n",
       "      <td>24.411582</td>\n",
       "    </tr>\n",
       "    <tr>\n",
       "      <th>2007-12-07</th>\n",
       "      <td>24.970258</td>\n",
       "    </tr>\n",
       "  </tbody>\n",
       "</table>\n",
       "</div>"
      ],
      "text/plain": [
       "                price\n",
       "Date                 \n",
       "2007-12-03  22.986003\n",
       "2007-12-04  23.108091\n",
       "2007-12-05  23.839335\n",
       "2007-12-06  24.411582\n",
       "2007-12-07  24.970258"
      ]
     },
     "execution_count": 8,
     "metadata": {},
     "output_type": "execute_result"
    }
   ],
   "source": [
    "data.head()"
   ]
  },
  {
   "cell_type": "markdown",
   "id": "0769c518",
   "metadata": {},
   "source": [
    "### Get Parameter"
   ]
  },
  {
   "cell_type": "code",
   "execution_count": 9,
   "id": "fc269065",
   "metadata": {},
   "outputs": [],
   "source": [
    "short_window = 20\n",
    "long_window = 50\n",
    "signal_window = 12"
   ]
  },
  {
   "cell_type": "markdown",
   "id": "868d5d54",
   "metadata": {},
   "source": [
    "### MACD"
   ]
  },
  {
   "cell_type": "code",
   "execution_count": 10,
   "id": "c259df17",
   "metadata": {},
   "outputs": [
    {
     "data": {
      "text/html": [
       "<div>\n",
       "<style scoped>\n",
       "    .dataframe tbody tr th:only-of-type {\n",
       "        vertical-align: middle;\n",
       "    }\n",
       "\n",
       "    .dataframe tbody tr th {\n",
       "        vertical-align: top;\n",
       "    }\n",
       "\n",
       "    .dataframe thead th {\n",
       "        text-align: right;\n",
       "    }\n",
       "</style>\n",
       "<table border=\"1\" class=\"dataframe\">\n",
       "  <thead>\n",
       "    <tr style=\"text-align: right;\">\n",
       "      <th></th>\n",
       "      <th>price</th>\n",
       "    </tr>\n",
       "    <tr>\n",
       "      <th>Date</th>\n",
       "      <th></th>\n",
       "    </tr>\n",
       "  </thead>\n",
       "  <tbody>\n",
       "    <tr>\n",
       "      <th>2007-12-03</th>\n",
       "      <td>22.986003</td>\n",
       "    </tr>\n",
       "    <tr>\n",
       "      <th>2007-12-04</th>\n",
       "      <td>23.108091</td>\n",
       "    </tr>\n",
       "    <tr>\n",
       "      <th>2007-12-05</th>\n",
       "      <td>23.839335</td>\n",
       "    </tr>\n",
       "    <tr>\n",
       "      <th>2007-12-06</th>\n",
       "      <td>24.411582</td>\n",
       "    </tr>\n",
       "    <tr>\n",
       "      <th>2007-12-07</th>\n",
       "      <td>24.970258</td>\n",
       "    </tr>\n",
       "  </tbody>\n",
       "</table>\n",
       "</div>"
      ],
      "text/plain": [
       "                price\n",
       "Date                 \n",
       "2007-12-03  22.986003\n",
       "2007-12-04  23.108091\n",
       "2007-12-05  23.839335\n",
       "2007-12-06  24.411582\n",
       "2007-12-07  24.970258"
      ]
     },
     "execution_count": 10,
     "metadata": {},
     "output_type": "execute_result"
    }
   ],
   "source": [
    "data.head()"
   ]
  },
  {
   "cell_type": "code",
   "execution_count": 11,
   "id": "325af1d5",
   "metadata": {},
   "outputs": [],
   "source": [
    "data[\"SMA\"] = data['price'].rolling(window = short_window, center=False).mean()"
   ]
  },
  {
   "cell_type": "code",
   "execution_count": 12,
   "id": "684f7388",
   "metadata": {},
   "outputs": [],
   "source": [
    "data[\"LMA\"] = data['price'].rolling(window = long_window, center=False).mean()"
   ]
  },
  {
   "cell_type": "code",
   "execution_count": 13,
   "id": "d381ecb0",
   "metadata": {},
   "outputs": [],
   "source": [
    "data[\"MACD\"] = data['SMA'] - data['LMA']"
   ]
  },
  {
   "cell_type": "code",
   "execution_count": null,
   "id": "d96a3870",
   "metadata": {},
   "outputs": [],
   "source": [
    "macd = sma - lma > 0\n",
    "macd > o\n",
    "sma - lma > 0\n",
    "sma > lma"
   ]
  },
  {
   "cell_type": "code",
   "execution_count": 14,
   "id": "9dda12fb",
   "metadata": {},
   "outputs": [
    {
     "data": {
      "text/html": [
       "<div>\n",
       "<style scoped>\n",
       "    .dataframe tbody tr th:only-of-type {\n",
       "        vertical-align: middle;\n",
       "    }\n",
       "\n",
       "    .dataframe tbody tr th {\n",
       "        vertical-align: top;\n",
       "    }\n",
       "\n",
       "    .dataframe thead th {\n",
       "        text-align: right;\n",
       "    }\n",
       "</style>\n",
       "<table border=\"1\" class=\"dataframe\">\n",
       "  <thead>\n",
       "    <tr style=\"text-align: right;\">\n",
       "      <th></th>\n",
       "      <th>price</th>\n",
       "      <th>SMA</th>\n",
       "      <th>LMA</th>\n",
       "      <th>MACD</th>\n",
       "    </tr>\n",
       "    <tr>\n",
       "      <th>Date</th>\n",
       "      <th></th>\n",
       "      <th></th>\n",
       "      <th></th>\n",
       "      <th></th>\n",
       "    </tr>\n",
       "  </thead>\n",
       "  <tbody>\n",
       "    <tr>\n",
       "      <th>2007-12-03</th>\n",
       "      <td>22.986003</td>\n",
       "      <td>NaN</td>\n",
       "      <td>NaN</td>\n",
       "      <td>NaN</td>\n",
       "    </tr>\n",
       "    <tr>\n",
       "      <th>2007-12-04</th>\n",
       "      <td>23.108091</td>\n",
       "      <td>NaN</td>\n",
       "      <td>NaN</td>\n",
       "      <td>NaN</td>\n",
       "    </tr>\n",
       "    <tr>\n",
       "      <th>2007-12-05</th>\n",
       "      <td>23.839335</td>\n",
       "      <td>NaN</td>\n",
       "      <td>NaN</td>\n",
       "      <td>NaN</td>\n",
       "    </tr>\n",
       "    <tr>\n",
       "      <th>2007-12-06</th>\n",
       "      <td>24.411582</td>\n",
       "      <td>NaN</td>\n",
       "      <td>NaN</td>\n",
       "      <td>NaN</td>\n",
       "    </tr>\n",
       "    <tr>\n",
       "      <th>2007-12-07</th>\n",
       "      <td>24.970258</td>\n",
       "      <td>NaN</td>\n",
       "      <td>NaN</td>\n",
       "      <td>NaN</td>\n",
       "    </tr>\n",
       "  </tbody>\n",
       "</table>\n",
       "</div>"
      ],
      "text/plain": [
       "                price  SMA  LMA  MACD\n",
       "Date                                 \n",
       "2007-12-03  22.986003  NaN  NaN   NaN\n",
       "2007-12-04  23.108091  NaN  NaN   NaN\n",
       "2007-12-05  23.839335  NaN  NaN   NaN\n",
       "2007-12-06  24.411582  NaN  NaN   NaN\n",
       "2007-12-07  24.970258  NaN  NaN   NaN"
      ]
     },
     "execution_count": 14,
     "metadata": {},
     "output_type": "execute_result"
    }
   ],
   "source": [
    "data.head()"
   ]
  },
  {
   "cell_type": "code",
   "execution_count": 15,
   "id": "6a2c1d30",
   "metadata": {},
   "outputs": [
    {
     "data": {
      "text/plain": [
       "<AxesSubplot:xlabel='Date'>"
      ]
     },
     "execution_count": 15,
     "metadata": {},
     "output_type": "execute_result"
    },
    {
     "data": {
      "image/png": "[encoded data removed]",
      "text/plain": [
       "<Figure size 432x288 with 1 Axes>"
      ]
     },
     "metadata": {
      "needs_background": "light"
     },
     "output_type": "display_data"
    }
   ],
   "source": [
    "data.plot()"
   ]
  },
  {
   "cell_type": "code",
   "execution_count": null,
   "id": "3ed64bd5",
   "metadata": {},
   "outputs": [],
   "source": []
  },
  {
   "cell_type": "markdown",
   "id": "c0363e8a",
   "metadata": {},
   "source": [
    "### Moving Average Crossover\n",
    "- The Moving average crossover technique is an extremely well-known simplistic momentum strategy.\n",
    "- This is considered the \"Hello world\" example for quantitative trading\n",
    "- Create two separate simple moving average filters, with varying lookback periods of a particular time series.\n",
    "- Signals to purchase the asset at the time when the shorter lookback moving average exceeds the longer lookback moving average\n",
    "- If the later time longer average subsequently exceeds the shorter average, the asset is sold back\n",
    "- The strategy workds well when a time series enters a perod of strong trend and then slowly reverses the trend"
   ]
  },
  {
   "cell_type": "code",
   "execution_count": 17,
   "id": "a3326464",
   "metadata": {},
   "outputs": [
    {
     "data": {
      "text/plain": [
       "<AxesSubplot:xlabel='Date'>"
      ]
     },
     "execution_count": 17,
     "metadata": {},
     "output_type": "execute_result"
    },
    {
     "data": {
      "image/png": "[encoded data removed]",
      "text/plain": [
       "<Figure size 864x576 with 1 Axes>"
      ]
     },
     "metadata": {
      "needs_background": "light"
     },
     "output_type": "display_data"
    }
   ],
   "source": [
    "data[['price', 'SMA', 'LMA']].plot(grid=True, figsize=(12, 8))"
   ]
  },
  {
   "cell_type": "code",
   "execution_count": 18,
   "id": "8d58a290",
   "metadata": {},
   "outputs": [
    {
     "data": {
      "text/plain": [
       "<AxesSubplot:xlabel='Date'>"
      ]
     },
     "execution_count": 18,
     "metadata": {},
     "output_type": "execute_result"
    },
    {
     "data": {
      "image/png": "[encoded data removed]",
      "text/plain": [
       "<Figure size 1440x576 with 1 Axes>"
      ]
     },
     "metadata": {
      "needs_background": "light"
     },
     "output_type": "display_data"
    }
   ],
   "source": [
    "data['MACD'].plot(grid=True, figsize=(20, 8))"
   ]
  },
  {
   "cell_type": "code",
   "execution_count": 20,
   "id": "bc25531b",
   "metadata": {},
   "outputs": [
    {
     "data": {
      "text/html": [
       "<div>\n",
       "<style scoped>\n",
       "    .dataframe tbody tr th:only-of-type {\n",
       "        vertical-align: middle;\n",
       "    }\n",
       "\n",
       "    .dataframe tbody tr th {\n",
       "        vertical-align: top;\n",
       "    }\n",
       "\n",
       "    .dataframe thead th {\n",
       "        text-align: right;\n",
       "    }\n",
       "</style>\n",
       "<table border=\"1\" class=\"dataframe\">\n",
       "  <thead>\n",
       "    <tr style=\"text-align: right;\">\n",
       "      <th></th>\n",
       "      <th>price</th>\n",
       "      <th>SMA</th>\n",
       "      <th>LMA</th>\n",
       "      <th>MACD</th>\n",
       "      <th>short_long</th>\n",
       "    </tr>\n",
       "    <tr>\n",
       "      <th>Date</th>\n",
       "      <th></th>\n",
       "      <th></th>\n",
       "      <th></th>\n",
       "      <th></th>\n",
       "      <th></th>\n",
       "    </tr>\n",
       "  </thead>\n",
       "  <tbody>\n",
       "    <tr>\n",
       "      <th>2007-12-03</th>\n",
       "      <td>22.986003</td>\n",
       "      <td>NaN</td>\n",
       "      <td>NaN</td>\n",
       "      <td>NaN</td>\n",
       "      <td>0.0</td>\n",
       "    </tr>\n",
       "    <tr>\n",
       "      <th>2007-12-04</th>\n",
       "      <td>23.108091</td>\n",
       "      <td>NaN</td>\n",
       "      <td>NaN</td>\n",
       "      <td>NaN</td>\n",
       "      <td>0.0</td>\n",
       "    </tr>\n",
       "    <tr>\n",
       "      <th>2007-12-05</th>\n",
       "      <td>23.839335</td>\n",
       "      <td>NaN</td>\n",
       "      <td>NaN</td>\n",
       "      <td>NaN</td>\n",
       "      <td>0.0</td>\n",
       "    </tr>\n",
       "    <tr>\n",
       "      <th>2007-12-06</th>\n",
       "      <td>24.411582</td>\n",
       "      <td>NaN</td>\n",
       "      <td>NaN</td>\n",
       "      <td>NaN</td>\n",
       "      <td>0.0</td>\n",
       "    </tr>\n",
       "    <tr>\n",
       "      <th>2007-12-07</th>\n",
       "      <td>24.970258</td>\n",
       "      <td>NaN</td>\n",
       "      <td>NaN</td>\n",
       "      <td>NaN</td>\n",
       "      <td>0.0</td>\n",
       "    </tr>\n",
       "    <tr>\n",
       "      <th>2007-12-10</th>\n",
       "      <td>24.958692</td>\n",
       "      <td>NaN</td>\n",
       "      <td>NaN</td>\n",
       "      <td>NaN</td>\n",
       "      <td>0.0</td>\n",
       "    </tr>\n",
       "    <tr>\n",
       "      <th>2007-12-11</th>\n",
       "      <td>24.230069</td>\n",
       "      <td>NaN</td>\n",
       "      <td>NaN</td>\n",
       "      <td>NaN</td>\n",
       "      <td>0.0</td>\n",
       "    </tr>\n",
       "    <tr>\n",
       "      <th>2007-12-12</th>\n",
       "      <td>24.528170</td>\n",
       "      <td>NaN</td>\n",
       "      <td>NaN</td>\n",
       "      <td>NaN</td>\n",
       "      <td>0.0</td>\n",
       "    </tr>\n",
       "    <tr>\n",
       "      <th>2007-12-13</th>\n",
       "      <td>24.652829</td>\n",
       "      <td>NaN</td>\n",
       "      <td>NaN</td>\n",
       "      <td>NaN</td>\n",
       "      <td>0.0</td>\n",
       "    </tr>\n",
       "    <tr>\n",
       "      <th>2007-12-14</th>\n",
       "      <td>24.467769</td>\n",
       "      <td>NaN</td>\n",
       "      <td>NaN</td>\n",
       "      <td>NaN</td>\n",
       "      <td>0.0</td>\n",
       "    </tr>\n",
       "    <tr>\n",
       "      <th>2007-12-17</th>\n",
       "      <td>23.697970</td>\n",
       "      <td>NaN</td>\n",
       "      <td>NaN</td>\n",
       "      <td>NaN</td>\n",
       "      <td>0.0</td>\n",
       "    </tr>\n",
       "    <tr>\n",
       "      <th>2007-12-18</th>\n",
       "      <td>23.515480</td>\n",
       "      <td>NaN</td>\n",
       "      <td>NaN</td>\n",
       "      <td>NaN</td>\n",
       "      <td>0.0</td>\n",
       "    </tr>\n",
       "    <tr>\n",
       "      <th>2007-12-19</th>\n",
       "      <td>23.533472</td>\n",
       "      <td>NaN</td>\n",
       "      <td>NaN</td>\n",
       "      <td>NaN</td>\n",
       "      <td>0.0</td>\n",
       "    </tr>\n",
       "    <tr>\n",
       "      <th>2007-12-20</th>\n",
       "      <td>24.059094</td>\n",
       "      <td>NaN</td>\n",
       "      <td>NaN</td>\n",
       "      <td>NaN</td>\n",
       "      <td>0.0</td>\n",
       "    </tr>\n",
       "    <tr>\n",
       "      <th>2007-12-21</th>\n",
       "      <td>24.920138</td>\n",
       "      <td>NaN</td>\n",
       "      <td>NaN</td>\n",
       "      <td>NaN</td>\n",
       "      <td>0.0</td>\n",
       "    </tr>\n",
       "    <tr>\n",
       "      <th>2007-12-24</th>\n",
       "      <td>25.548571</td>\n",
       "      <td>NaN</td>\n",
       "      <td>NaN</td>\n",
       "      <td>NaN</td>\n",
       "      <td>0.0</td>\n",
       "    </tr>\n",
       "    <tr>\n",
       "      <th>2007-12-26</th>\n",
       "      <td>25.567848</td>\n",
       "      <td>NaN</td>\n",
       "      <td>NaN</td>\n",
       "      <td>NaN</td>\n",
       "      <td>0.0</td>\n",
       "    </tr>\n",
       "    <tr>\n",
       "      <th>2007-12-27</th>\n",
       "      <td>25.519013</td>\n",
       "      <td>NaN</td>\n",
       "      <td>NaN</td>\n",
       "      <td>NaN</td>\n",
       "      <td>0.0</td>\n",
       "    </tr>\n",
       "    <tr>\n",
       "      <th>2007-12-28</th>\n",
       "      <td>25.680940</td>\n",
       "      <td>NaN</td>\n",
       "      <td>NaN</td>\n",
       "      <td>NaN</td>\n",
       "      <td>0.0</td>\n",
       "    </tr>\n",
       "    <tr>\n",
       "      <th>2007-12-31</th>\n",
       "      <td>25.456041</td>\n",
       "      <td>24.482568</td>\n",
       "      <td>NaN</td>\n",
       "      <td>NaN</td>\n",
       "      <td>0.0</td>\n",
       "    </tr>\n",
       "    <tr>\n",
       "      <th>2008-01-02</th>\n",
       "      <td>25.039656</td>\n",
       "      <td>24.585251</td>\n",
       "      <td>NaN</td>\n",
       "      <td>NaN</td>\n",
       "      <td>0.0</td>\n",
       "    </tr>\n",
       "    <tr>\n",
       "      <th>2008-01-03</th>\n",
       "      <td>25.051222</td>\n",
       "      <td>24.682407</td>\n",
       "      <td>NaN</td>\n",
       "      <td>NaN</td>\n",
       "      <td>0.0</td>\n",
       "    </tr>\n",
       "    <tr>\n",
       "      <th>2008-01-04</th>\n",
       "      <td>23.138934</td>\n",
       "      <td>24.647387</td>\n",
       "      <td>NaN</td>\n",
       "      <td>NaN</td>\n",
       "      <td>0.0</td>\n",
       "    </tr>\n",
       "    <tr>\n",
       "      <th>2008-01-07</th>\n",
       "      <td>22.829216</td>\n",
       "      <td>24.568269</td>\n",
       "      <td>NaN</td>\n",
       "      <td>NaN</td>\n",
       "      <td>0.0</td>\n",
       "    </tr>\n",
       "    <tr>\n",
       "      <th>2008-01-08</th>\n",
       "      <td>22.008012</td>\n",
       "      <td>24.420157</td>\n",
       "      <td>NaN</td>\n",
       "      <td>NaN</td>\n",
       "      <td>0.0</td>\n",
       "    </tr>\n",
       "    <tr>\n",
       "      <th>2008-01-09</th>\n",
       "      <td>23.055400</td>\n",
       "      <td>24.324992</td>\n",
       "      <td>NaN</td>\n",
       "      <td>NaN</td>\n",
       "      <td>0.0</td>\n",
       "    </tr>\n",
       "    <tr>\n",
       "      <th>2008-01-10</th>\n",
       "      <td>22.878051</td>\n",
       "      <td>24.257391</td>\n",
       "      <td>NaN</td>\n",
       "      <td>NaN</td>\n",
       "      <td>0.0</td>\n",
       "    </tr>\n",
       "    <tr>\n",
       "      <th>2008-01-11</th>\n",
       "      <td>22.193072</td>\n",
       "      <td>24.140636</td>\n",
       "      <td>NaN</td>\n",
       "      <td>NaN</td>\n",
       "      <td>0.0</td>\n",
       "    </tr>\n",
       "    <tr>\n",
       "      <th>2008-01-14</th>\n",
       "      <td>22.975722</td>\n",
       "      <td>24.056781</td>\n",
       "      <td>NaN</td>\n",
       "      <td>NaN</td>\n",
       "      <td>0.0</td>\n",
       "    </tr>\n",
       "    <tr>\n",
       "      <th>2008-01-15</th>\n",
       "      <td>21.723996</td>\n",
       "      <td>23.919592</td>\n",
       "      <td>NaN</td>\n",
       "      <td>NaN</td>\n",
       "      <td>0.0</td>\n",
       "    </tr>\n",
       "    <tr>\n",
       "      <th>2008-01-16</th>\n",
       "      <td>20.515965</td>\n",
       "      <td>23.760492</td>\n",
       "      <td>NaN</td>\n",
       "      <td>NaN</td>\n",
       "      <td>0.0</td>\n",
       "    </tr>\n",
       "    <tr>\n",
       "      <th>2008-01-17</th>\n",
       "      <td>20.676607</td>\n",
       "      <td>23.618548</td>\n",
       "      <td>NaN</td>\n",
       "      <td>NaN</td>\n",
       "      <td>0.0</td>\n",
       "    </tr>\n",
       "    <tr>\n",
       "      <th>2008-01-18</th>\n",
       "      <td>20.737009</td>\n",
       "      <td>23.478725</td>\n",
       "      <td>NaN</td>\n",
       "      <td>NaN</td>\n",
       "      <td>0.0</td>\n",
       "    </tr>\n",
       "    <tr>\n",
       "      <th>2008-01-22</th>\n",
       "      <td>20.001909</td>\n",
       "      <td>23.275866</td>\n",
       "      <td>NaN</td>\n",
       "      <td>NaN</td>\n",
       "      <td>0.0</td>\n",
       "    </tr>\n",
       "    <tr>\n",
       "      <th>2008-01-23</th>\n",
       "      <td>17.872690</td>\n",
       "      <td>22.923494</td>\n",
       "      <td>NaN</td>\n",
       "      <td>NaN</td>\n",
       "      <td>0.0</td>\n",
       "    </tr>\n",
       "    <tr>\n",
       "      <th>2008-01-24</th>\n",
       "      <td>17.426490</td>\n",
       "      <td>22.517390</td>\n",
       "      <td>NaN</td>\n",
       "      <td>NaN</td>\n",
       "      <td>0.0</td>\n",
       "    </tr>\n",
       "    <tr>\n",
       "      <th>2008-01-25</th>\n",
       "      <td>16.708097</td>\n",
       "      <td>22.074402</td>\n",
       "      <td>NaN</td>\n",
       "      <td>NaN</td>\n",
       "      <td>0.0</td>\n",
       "    </tr>\n",
       "    <tr>\n",
       "      <th>2008-01-28</th>\n",
       "      <td>16.708097</td>\n",
       "      <td>21.633856</td>\n",
       "      <td>NaN</td>\n",
       "      <td>NaN</td>\n",
       "      <td>0.0</td>\n",
       "    </tr>\n",
       "    <tr>\n",
       "      <th>2008-01-29</th>\n",
       "      <td>16.904723</td>\n",
       "      <td>21.195046</td>\n",
       "      <td>NaN</td>\n",
       "      <td>NaN</td>\n",
       "      <td>0.0</td>\n",
       "    </tr>\n",
       "    <tr>\n",
       "      <th>2008-01-30</th>\n",
       "      <td>16.986972</td>\n",
       "      <td>20.771592</td>\n",
       "      <td>NaN</td>\n",
       "      <td>NaN</td>\n",
       "      <td>0.0</td>\n",
       "    </tr>\n",
       "  </tbody>\n",
       "</table>\n",
       "</div>"
      ],
      "text/plain": [
       "                price        SMA  LMA  MACD  short_long\n",
       "Date                                                   \n",
       "2007-12-03  22.986003        NaN  NaN   NaN         0.0\n",
       "2007-12-04  23.108091        NaN  NaN   NaN         0.0\n",
       "2007-12-05  23.839335        NaN  NaN   NaN         0.0\n",
       "2007-12-06  24.411582        NaN  NaN   NaN         0.0\n",
       "2007-12-07  24.970258        NaN  NaN   NaN         0.0\n",
       "2007-12-10  24.958692        NaN  NaN   NaN         0.0\n",
       "2007-12-11  24.230069        NaN  NaN   NaN         0.0\n",
       "2007-12-12  24.528170        NaN  NaN   NaN         0.0\n",
       "2007-12-13  24.652829        NaN  NaN   NaN         0.0\n",
       "2007-12-14  24.467769        NaN  NaN   NaN         0.0\n",
       "2007-12-17  23.697970        NaN  NaN   NaN         0.0\n",
       "2007-12-18  23.515480        NaN  NaN   NaN         0.0\n",
       "2007-12-19  23.533472        NaN  NaN   NaN         0.0\n",
       "2007-12-20  24.059094        NaN  NaN   NaN         0.0\n",
       "2007-12-21  24.920138        NaN  NaN   NaN         0.0\n",
       "2007-12-24  25.548571        NaN  NaN   NaN         0.0\n",
       "2007-12-26  25.567848        NaN  NaN   NaN         0.0\n",
       "2007-12-27  25.519013        NaN  NaN   NaN         0.0\n",
       "2007-12-28  25.680940        NaN  NaN   NaN         0.0\n",
       "2007-12-31  25.456041  24.482568  NaN   NaN         0.0\n",
       "2008-01-02  25.039656  24.585251  NaN   NaN         0.0\n",
       "2008-01-03  25.051222  24.682407  NaN   NaN         0.0\n",
       "2008-01-04  23.138934  24.647387  NaN   NaN         0.0\n",
       "2008-01-07  22.829216  24.568269  NaN   NaN         0.0\n",
       "2008-01-08  22.008012  24.420157  NaN   NaN         0.0\n",
       "2008-01-09  23.055400  24.324992  NaN   NaN         0.0\n",
       "2008-01-10  22.878051  24.257391  NaN   NaN         0.0\n",
       "2008-01-11  22.193072  24.140636  NaN   NaN         0.0\n",
       "2008-01-14  22.975722  24.056781  NaN   NaN         0.0\n",
       "2008-01-15  21.723996  23.919592  NaN   NaN         0.0\n",
       "2008-01-16  20.515965  23.760492  NaN   NaN         0.0\n",
       "2008-01-17  20.676607  23.618548  NaN   NaN         0.0\n",
       "2008-01-18  20.737009  23.478725  NaN   NaN         0.0\n",
       "2008-01-22  20.001909  23.275866  NaN   NaN         0.0\n",
       "2008-01-23  17.872690  22.923494  NaN   NaN         0.0\n",
       "2008-01-24  17.426490  22.517390  NaN   NaN         0.0\n",
       "2008-01-25  16.708097  22.074402  NaN   NaN         0.0\n",
       "2008-01-28  16.708097  21.633856  NaN   NaN         0.0\n",
       "2008-01-29  16.904723  21.195046  NaN   NaN         0.0\n",
       "2008-01-30  16.986972  20.771592  NaN   NaN         0.0"
      ]
     },
     "execution_count": 20,
     "metadata": {},
     "output_type": "execute_result"
    }
   ],
   "source": [
    "data.head(40)"
   ]
  },
  {
   "cell_type": "code",
   "execution_count": 19,
   "id": "576230ec",
   "metadata": {},
   "outputs": [],
   "source": [
    "data['short_long'] = 0.0"
   ]
  },
  {
   "cell_type": "code",
   "execution_count": 21,
   "id": "09d1dddf",
   "metadata": {},
   "outputs": [
    {
     "data": {
      "text/plain": [
       "<AxesSubplot:xlabel='Date'>"
      ]
     },
     "execution_count": 21,
     "metadata": {},
     "output_type": "execute_result"
    },
    {
     "data": {
      "image/png": "[encoded data removed]",
      "text/plain": [
       "<Figure size 432x288 with 1 Axes>"
      ]
     },
     "metadata": {
      "needs_background": "light"
     },
     "output_type": "display_data"
    }
   ],
   "source": [
    "data['short_long'].plot()"
   ]
  },
  {
   "cell_type": "code",
   "execution_count": 22,
   "id": "16afd6cb",
   "metadata": {},
   "outputs": [
    {
     "data": {
      "text/html": [
       "<div>\n",
       "<style scoped>\n",
       "    .dataframe tbody tr th:only-of-type {\n",
       "        vertical-align: middle;\n",
       "    }\n",
       "\n",
       "    .dataframe tbody tr th {\n",
       "        vertical-align: top;\n",
       "    }\n",
       "\n",
       "    .dataframe thead th {\n",
       "        text-align: right;\n",
       "    }\n",
       "</style>\n",
       "<table border=\"1\" class=\"dataframe\">\n",
       "  <thead>\n",
       "    <tr style=\"text-align: right;\">\n",
       "      <th></th>\n",
       "      <th>price</th>\n",
       "      <th>SMA</th>\n",
       "      <th>LMA</th>\n",
       "      <th>MACD</th>\n",
       "      <th>short_long</th>\n",
       "    </tr>\n",
       "    <tr>\n",
       "      <th>Date</th>\n",
       "      <th></th>\n",
       "      <th></th>\n",
       "      <th></th>\n",
       "      <th></th>\n",
       "      <th></th>\n",
       "    </tr>\n",
       "  </thead>\n",
       "  <tbody>\n",
       "    <tr>\n",
       "      <th>2007-12-03</th>\n",
       "      <td>22.986003</td>\n",
       "      <td>NaN</td>\n",
       "      <td>NaN</td>\n",
       "      <td>NaN</td>\n",
       "      <td>0.0</td>\n",
       "    </tr>\n",
       "    <tr>\n",
       "      <th>2007-12-04</th>\n",
       "      <td>23.108091</td>\n",
       "      <td>NaN</td>\n",
       "      <td>NaN</td>\n",
       "      <td>NaN</td>\n",
       "      <td>0.0</td>\n",
       "    </tr>\n",
       "    <tr>\n",
       "      <th>2007-12-05</th>\n",
       "      <td>23.839335</td>\n",
       "      <td>NaN</td>\n",
       "      <td>NaN</td>\n",
       "      <td>NaN</td>\n",
       "      <td>0.0</td>\n",
       "    </tr>\n",
       "    <tr>\n",
       "      <th>2007-12-06</th>\n",
       "      <td>24.411582</td>\n",
       "      <td>NaN</td>\n",
       "      <td>NaN</td>\n",
       "      <td>NaN</td>\n",
       "      <td>0.0</td>\n",
       "    </tr>\n",
       "    <tr>\n",
       "      <th>2007-12-07</th>\n",
       "      <td>24.970258</td>\n",
       "      <td>NaN</td>\n",
       "      <td>NaN</td>\n",
       "      <td>NaN</td>\n",
       "      <td>0.0</td>\n",
       "    </tr>\n",
       "  </tbody>\n",
       "</table>\n",
       "</div>"
      ],
      "text/plain": [
       "                price  SMA  LMA  MACD  short_long\n",
       "Date                                             \n",
       "2007-12-03  22.986003  NaN  NaN   NaN         0.0\n",
       "2007-12-04  23.108091  NaN  NaN   NaN         0.0\n",
       "2007-12-05  23.839335  NaN  NaN   NaN         0.0\n",
       "2007-12-06  24.411582  NaN  NaN   NaN         0.0\n",
       "2007-12-07  24.970258  NaN  NaN   NaN         0.0"
      ]
     },
     "execution_count": 22,
     "metadata": {},
     "output_type": "execute_result"
    }
   ],
   "source": [
    "data.head()"
   ]
  },
  {
   "cell_type": "code",
   "execution_count": null,
   "id": "e3293dd6",
   "metadata": {},
   "outputs": [],
   "source": []
  },
  {
   "cell_type": "code",
   "execution_count": 32,
   "id": "70d3c916",
   "metadata": {},
   "outputs": [],
   "source": [
    "# data['short_long_signal'].plot()"
   ]
  },
  {
   "cell_type": "code",
   "execution_count": 25,
   "id": "4e3f9a78",
   "metadata": {},
   "outputs": [],
   "source": [
    "data['short_long'][long_window:] = np.where(data['SMA'][long_window:] \n",
    "                                            > data['LMA'][long_window:], 1.0, 0.0) "
   ]
  },
  {
   "cell_type": "code",
   "execution_count": 26,
   "id": "bc5bf68a",
   "metadata": {},
   "outputs": [
    {
     "data": {
      "text/plain": [
       "<AxesSubplot:xlabel='Date'>"
      ]
     },
     "execution_count": 26,
     "metadata": {},
     "output_type": "execute_result"
    },
    {
     "data": {
      "image/png": "[encoded data removed]",
      "text/plain": [
       "<Figure size 1440x288 with 1 Axes>"
      ]
     },
     "metadata": {
      "needs_background": "light"
     },
     "output_type": "display_data"
    }
   ],
   "source": [
    "data['short_long'].plot(grid=True, figsize=(20, 4))"
   ]
  },
  {
   "cell_type": "code",
   "execution_count": 27,
   "id": "0ef22fe4",
   "metadata": {},
   "outputs": [
    {
     "data": {
      "text/plain": [
       "<AxesSubplot:xlabel='Date'>"
      ]
     },
     "execution_count": 27,
     "metadata": {},
     "output_type": "execute_result"
    },
    {
     "data": {
      "image/png": "[encoded data removed]",
      "text/plain": [
       "<Figure size 1440x288 with 1 Axes>"
      ]
     },
     "metadata": {
      "needs_background": "light"
     },
     "output_type": "display_data"
    }
   ],
   "source": [
    "data[['SMA', 'LMA']].plot(grid=True, figsize=(20, 4))"
   ]
  },
  {
   "cell_type": "code",
   "execution_count": 35,
   "id": "107056c2",
   "metadata": {},
   "outputs": [
    {
     "ename": "SyntaxError",
     "evalue": "invalid syntax (Temp/ipykernel_8440/2856099022.py, line 1)",
     "output_type": "error",
     "traceback": [
      "\u001b[1;36m  File \u001b[1;32m\"C:\\Users\\harih\\AppData\\Local\\Temp/ipykernel_8440/2856099022.py\"\u001b[1;36m, line \u001b[1;32m1\u001b[0m\n\u001b[1;33m    00000 111111 000000 11111111\u001b[0m\n\u001b[1;37m          ^\u001b[0m\n\u001b[1;31mSyntaxError\u001b[0m\u001b[1;31m:\u001b[0m invalid syntax\n"
     ]
    }
   ],
   "source": [
    "00000 111111 000000 11111111\n",
    "\n",
    "diff\n",
    "\n",
    "00000 100000  -1 00000 1 00000000\n",
    "\n"
   ]
  },
  {
   "cell_type": "code",
   "execution_count": 37,
   "id": "70acdd04",
   "metadata": {},
   "outputs": [
    {
     "ename": "SyntaxError",
     "evalue": "invalid syntax (Temp/ipykernel_8440/2900052649.py, line 1)",
     "output_type": "error",
     "traceback": [
      "\u001b[1;36m  File \u001b[1;32m\"C:\\Users\\harih\\AppData\\Local\\Temp/ipykernel_8440/2900052649.py\"\u001b[1;36m, line \u001b[1;32m1\u001b[0m\n\u001b[1;33m    1 1 1 1 1 1 0 0 0 0 0 0 0 0 1 1 1 1 1 1 1 1 1 1 0 0 0 0 0 0\u001b[0m\n\u001b[1;37m      ^\u001b[0m\n\u001b[1;31mSyntaxError\u001b[0m\u001b[1;31m:\u001b[0m invalid syntax\n"
     ]
    }
   ],
   "source": [
    "1 1 1 1 1 1 0 0 0 0 0 0 0 0 1 1 1 1 1 1 1 1 1 1 0 0 0 0 0 0\n",
    "diff\n",
    "buy_sell_signal = [1 0 0 0 0 0 -1 0 0 0 0 0 0 0 1 0 0 0 0 0 0 0 0 0 -1 0 0 0 0]\n"
   ]
  },
  {
   "cell_type": "code",
   "execution_count": null,
   "id": "5f8174d5",
   "metadata": {},
   "outputs": [],
   "source": []
  },
  {
   "cell_type": "markdown",
   "id": "21113139",
   "metadata": {},
   "source": [
    "## Generating trading orders"
   ]
  },
  {
   "cell_type": "code",
   "execution_count": 29,
   "id": "cc9a2efc",
   "metadata": {},
   "outputs": [],
   "source": [
    "data['short_long_signal'] = data['short_long'].diff()"
   ]
  },
  {
   "cell_type": "code",
   "execution_count": 30,
   "id": "38b72634",
   "metadata": {},
   "outputs": [
    {
     "data": {
      "text/html": [
       "<div>\n",
       "<style scoped>\n",
       "    .dataframe tbody tr th:only-of-type {\n",
       "        vertical-align: middle;\n",
       "    }\n",
       "\n",
       "    .dataframe tbody tr th {\n",
       "        vertical-align: top;\n",
       "    }\n",
       "\n",
       "    .dataframe thead th {\n",
       "        text-align: right;\n",
       "    }\n",
       "</style>\n",
       "<table border=\"1\" class=\"dataframe\">\n",
       "  <thead>\n",
       "    <tr style=\"text-align: right;\">\n",
       "      <th></th>\n",
       "      <th>price</th>\n",
       "      <th>SMA</th>\n",
       "      <th>LMA</th>\n",
       "      <th>MACD</th>\n",
       "      <th>short_long</th>\n",
       "      <th>short_long_signal</th>\n",
       "    </tr>\n",
       "    <tr>\n",
       "      <th>Date</th>\n",
       "      <th></th>\n",
       "      <th></th>\n",
       "      <th></th>\n",
       "      <th></th>\n",
       "      <th></th>\n",
       "      <th></th>\n",
       "    </tr>\n",
       "  </thead>\n",
       "  <tbody>\n",
       "    <tr>\n",
       "      <th>2007-12-03</th>\n",
       "      <td>22.986003</td>\n",
       "      <td>NaN</td>\n",
       "      <td>NaN</td>\n",
       "      <td>NaN</td>\n",
       "      <td>0.0</td>\n",
       "      <td>NaN</td>\n",
       "    </tr>\n",
       "    <tr>\n",
       "      <th>2007-12-04</th>\n",
       "      <td>23.108091</td>\n",
       "      <td>NaN</td>\n",
       "      <td>NaN</td>\n",
       "      <td>NaN</td>\n",
       "      <td>0.0</td>\n",
       "      <td>0.0</td>\n",
       "    </tr>\n",
       "    <tr>\n",
       "      <th>2007-12-05</th>\n",
       "      <td>23.839335</td>\n",
       "      <td>NaN</td>\n",
       "      <td>NaN</td>\n",
       "      <td>NaN</td>\n",
       "      <td>0.0</td>\n",
       "      <td>0.0</td>\n",
       "    </tr>\n",
       "    <tr>\n",
       "      <th>2007-12-06</th>\n",
       "      <td>24.411582</td>\n",
       "      <td>NaN</td>\n",
       "      <td>NaN</td>\n",
       "      <td>NaN</td>\n",
       "      <td>0.0</td>\n",
       "      <td>0.0</td>\n",
       "    </tr>\n",
       "    <tr>\n",
       "      <th>2007-12-07</th>\n",
       "      <td>24.970258</td>\n",
       "      <td>NaN</td>\n",
       "      <td>NaN</td>\n",
       "      <td>NaN</td>\n",
       "      <td>0.0</td>\n",
       "      <td>0.0</td>\n",
       "    </tr>\n",
       "  </tbody>\n",
       "</table>\n",
       "</div>"
      ],
      "text/plain": [
       "                price  SMA  LMA  MACD  short_long  short_long_signal\n",
       "Date                                                                \n",
       "2007-12-03  22.986003  NaN  NaN   NaN         0.0                NaN\n",
       "2007-12-04  23.108091  NaN  NaN   NaN         0.0                0.0\n",
       "2007-12-05  23.839335  NaN  NaN   NaN         0.0                0.0\n",
       "2007-12-06  24.411582  NaN  NaN   NaN         0.0                0.0\n",
       "2007-12-07  24.970258  NaN  NaN   NaN         0.0                0.0"
      ]
     },
     "execution_count": 30,
     "metadata": {},
     "output_type": "execute_result"
    }
   ],
   "source": [
    "data.head()"
   ]
  },
  {
   "cell_type": "code",
   "execution_count": 31,
   "id": "64e7a987",
   "metadata": {
    "scrolled": true
   },
   "outputs": [
    {
     "data": {
      "text/plain": [
       "<AxesSubplot:xlabel='Date'>"
      ]
     },
     "execution_count": 31,
     "metadata": {},
     "output_type": "execute_result"
    },
    {
     "data": {
      "image/png": "[encoded data removed]",
      "text/plain": [
       "<Figure size 1440x288 with 1 Axes>"
      ]
     },
     "metadata": {
      "needs_background": "light"
     },
     "output_type": "display_data"
    }
   ],
   "source": [
    "data['short_long'].plot(grid=True, figsize=(20, 4))"
   ]
  },
  {
   "cell_type": "code",
   "execution_count": 32,
   "id": "b312d180",
   "metadata": {},
   "outputs": [
    {
     "data": {
      "text/plain": [
       "<AxesSubplot:xlabel='Date'>"
      ]
     },
     "execution_count": 32,
     "metadata": {},
     "output_type": "execute_result"
    },
    {
     "data": {
      "image/png": "[encoded data removed]",
      "text/plain": [
       "<Figure size 1440x288 with 1 Axes>"
      ]
     },
     "metadata": {
      "needs_background": "light"
     },
     "output_type": "display_data"
    }
   ],
   "source": [
    "data['short_long_signal'].plot(grid=True, figsize=(20, 4))"
   ]
  },
  {
   "cell_type": "markdown",
   "id": "8757a834",
   "metadata": {},
   "source": [
    "### macd signal line"
   ]
  },
  {
   "cell_type": "code",
   "execution_count": 33,
   "id": "28dc7d55",
   "metadata": {},
   "outputs": [
    {
     "data": {
      "text/html": [
       "<div>\n",
       "<style scoped>\n",
       "    .dataframe tbody tr th:only-of-type {\n",
       "        vertical-align: middle;\n",
       "    }\n",
       "\n",
       "    .dataframe tbody tr th {\n",
       "        vertical-align: top;\n",
       "    }\n",
       "\n",
       "    .dataframe thead th {\n",
       "        text-align: right;\n",
       "    }\n",
       "</style>\n",
       "<table border=\"1\" class=\"dataframe\">\n",
       "  <thead>\n",
       "    <tr style=\"text-align: right;\">\n",
       "      <th></th>\n",
       "      <th>price</th>\n",
       "      <th>SMA</th>\n",
       "      <th>LMA</th>\n",
       "      <th>MACD</th>\n",
       "      <th>short_long</th>\n",
       "      <th>short_long_signal</th>\n",
       "    </tr>\n",
       "    <tr>\n",
       "      <th>Date</th>\n",
       "      <th></th>\n",
       "      <th></th>\n",
       "      <th></th>\n",
       "      <th></th>\n",
       "      <th></th>\n",
       "      <th></th>\n",
       "    </tr>\n",
       "  </thead>\n",
       "  <tbody>\n",
       "    <tr>\n",
       "      <th>2007-12-03</th>\n",
       "      <td>22.986003</td>\n",
       "      <td>NaN</td>\n",
       "      <td>NaN</td>\n",
       "      <td>NaN</td>\n",
       "      <td>0.0</td>\n",
       "      <td>NaN</td>\n",
       "    </tr>\n",
       "    <tr>\n",
       "      <th>2007-12-04</th>\n",
       "      <td>23.108091</td>\n",
       "      <td>NaN</td>\n",
       "      <td>NaN</td>\n",
       "      <td>NaN</td>\n",
       "      <td>0.0</td>\n",
       "      <td>0.0</td>\n",
       "    </tr>\n",
       "    <tr>\n",
       "      <th>2007-12-05</th>\n",
       "      <td>23.839335</td>\n",
       "      <td>NaN</td>\n",
       "      <td>NaN</td>\n",
       "      <td>NaN</td>\n",
       "      <td>0.0</td>\n",
       "      <td>0.0</td>\n",
       "    </tr>\n",
       "    <tr>\n",
       "      <th>2007-12-06</th>\n",
       "      <td>24.411582</td>\n",
       "      <td>NaN</td>\n",
       "      <td>NaN</td>\n",
       "      <td>NaN</td>\n",
       "      <td>0.0</td>\n",
       "      <td>0.0</td>\n",
       "    </tr>\n",
       "    <tr>\n",
       "      <th>2007-12-07</th>\n",
       "      <td>24.970258</td>\n",
       "      <td>NaN</td>\n",
       "      <td>NaN</td>\n",
       "      <td>NaN</td>\n",
       "      <td>0.0</td>\n",
       "      <td>0.0</td>\n",
       "    </tr>\n",
       "  </tbody>\n",
       "</table>\n",
       "</div>"
      ],
      "text/plain": [
       "                price  SMA  LMA  MACD  short_long  short_long_signal\n",
       "Date                                                                \n",
       "2007-12-03  22.986003  NaN  NaN   NaN         0.0                NaN\n",
       "2007-12-04  23.108091  NaN  NaN   NaN         0.0                0.0\n",
       "2007-12-05  23.839335  NaN  NaN   NaN         0.0                0.0\n",
       "2007-12-06  24.411582  NaN  NaN   NaN         0.0                0.0\n",
       "2007-12-07  24.970258  NaN  NaN   NaN         0.0                0.0"
      ]
     },
     "execution_count": 33,
     "metadata": {},
     "output_type": "execute_result"
    }
   ],
   "source": [
    "data.head()"
   ]
  },
  {
   "cell_type": "code",
   "execution_count": 34,
   "id": "4ca4b7ca",
   "metadata": {},
   "outputs": [],
   "source": [
    "data['signal_line'] = data['MACD'].rolling(window = signal_window).mean()"
   ]
  },
  {
   "cell_type": "code",
   "execution_count": 35,
   "id": "ae0f6911",
   "metadata": {},
   "outputs": [
    {
     "data": {
      "text/html": [
       "<div>\n",
       "<style scoped>\n",
       "    .dataframe tbody tr th:only-of-type {\n",
       "        vertical-align: middle;\n",
       "    }\n",
       "\n",
       "    .dataframe tbody tr th {\n",
       "        vertical-align: top;\n",
       "    }\n",
       "\n",
       "    .dataframe thead th {\n",
       "        text-align: right;\n",
       "    }\n",
       "</style>\n",
       "<table border=\"1\" class=\"dataframe\">\n",
       "  <thead>\n",
       "    <tr style=\"text-align: right;\">\n",
       "      <th></th>\n",
       "      <th>price</th>\n",
       "      <th>SMA</th>\n",
       "      <th>LMA</th>\n",
       "      <th>MACD</th>\n",
       "      <th>short_long</th>\n",
       "      <th>short_long_signal</th>\n",
       "      <th>signal_line</th>\n",
       "    </tr>\n",
       "    <tr>\n",
       "      <th>Date</th>\n",
       "      <th></th>\n",
       "      <th></th>\n",
       "      <th></th>\n",
       "      <th></th>\n",
       "      <th></th>\n",
       "      <th></th>\n",
       "      <th></th>\n",
       "    </tr>\n",
       "  </thead>\n",
       "  <tbody>\n",
       "    <tr>\n",
       "      <th>2007-12-03</th>\n",
       "      <td>22.986003</td>\n",
       "      <td>NaN</td>\n",
       "      <td>NaN</td>\n",
       "      <td>NaN</td>\n",
       "      <td>0.0</td>\n",
       "      <td>NaN</td>\n",
       "      <td>NaN</td>\n",
       "    </tr>\n",
       "    <tr>\n",
       "      <th>2007-12-04</th>\n",
       "      <td>23.108091</td>\n",
       "      <td>NaN</td>\n",
       "      <td>NaN</td>\n",
       "      <td>NaN</td>\n",
       "      <td>0.0</td>\n",
       "      <td>0.0</td>\n",
       "      <td>NaN</td>\n",
       "    </tr>\n",
       "    <tr>\n",
       "      <th>2007-12-05</th>\n",
       "      <td>23.839335</td>\n",
       "      <td>NaN</td>\n",
       "      <td>NaN</td>\n",
       "      <td>NaN</td>\n",
       "      <td>0.0</td>\n",
       "      <td>0.0</td>\n",
       "      <td>NaN</td>\n",
       "    </tr>\n",
       "    <tr>\n",
       "      <th>2007-12-06</th>\n",
       "      <td>24.411582</td>\n",
       "      <td>NaN</td>\n",
       "      <td>NaN</td>\n",
       "      <td>NaN</td>\n",
       "      <td>0.0</td>\n",
       "      <td>0.0</td>\n",
       "      <td>NaN</td>\n",
       "    </tr>\n",
       "    <tr>\n",
       "      <th>2007-12-07</th>\n",
       "      <td>24.970258</td>\n",
       "      <td>NaN</td>\n",
       "      <td>NaN</td>\n",
       "      <td>NaN</td>\n",
       "      <td>0.0</td>\n",
       "      <td>0.0</td>\n",
       "      <td>NaN</td>\n",
       "    </tr>\n",
       "  </tbody>\n",
       "</table>\n",
       "</div>"
      ],
      "text/plain": [
       "                price  SMA  LMA  MACD  short_long  short_long_signal  \\\n",
       "Date                                                                   \n",
       "2007-12-03  22.986003  NaN  NaN   NaN         0.0                NaN   \n",
       "2007-12-04  23.108091  NaN  NaN   NaN         0.0                0.0   \n",
       "2007-12-05  23.839335  NaN  NaN   NaN         0.0                0.0   \n",
       "2007-12-06  24.411582  NaN  NaN   NaN         0.0                0.0   \n",
       "2007-12-07  24.970258  NaN  NaN   NaN         0.0                0.0   \n",
       "\n",
       "            signal_line  \n",
       "Date                     \n",
       "2007-12-03          NaN  \n",
       "2007-12-04          NaN  \n",
       "2007-12-05          NaN  \n",
       "2007-12-06          NaN  \n",
       "2007-12-07          NaN  "
      ]
     },
     "execution_count": 35,
     "metadata": {},
     "output_type": "execute_result"
    }
   ],
   "source": [
    "data.head()"
   ]
  },
  {
   "cell_type": "code",
   "execution_count": 36,
   "id": "327713bf",
   "metadata": {},
   "outputs": [
    {
     "data": {
      "text/html": [
       "<div>\n",
       "<style scoped>\n",
       "    .dataframe tbody tr th:only-of-type {\n",
       "        vertical-align: middle;\n",
       "    }\n",
       "\n",
       "    .dataframe tbody tr th {\n",
       "        vertical-align: top;\n",
       "    }\n",
       "\n",
       "    .dataframe thead th {\n",
       "        text-align: right;\n",
       "    }\n",
       "</style>\n",
       "<table border=\"1\" class=\"dataframe\">\n",
       "  <thead>\n",
       "    <tr style=\"text-align: right;\">\n",
       "      <th></th>\n",
       "      <th>price</th>\n",
       "      <th>SMA</th>\n",
       "      <th>LMA</th>\n",
       "      <th>MACD</th>\n",
       "      <th>short_long</th>\n",
       "      <th>short_long_signal</th>\n",
       "      <th>signal_line</th>\n",
       "    </tr>\n",
       "    <tr>\n",
       "      <th>Date</th>\n",
       "      <th></th>\n",
       "      <th></th>\n",
       "      <th></th>\n",
       "      <th></th>\n",
       "      <th></th>\n",
       "      <th></th>\n",
       "      <th></th>\n",
       "    </tr>\n",
       "  </thead>\n",
       "  <tbody>\n",
       "    <tr>\n",
       "      <th>2017-11-02</th>\n",
       "      <td>168.11</td>\n",
       "      <td>159.48625</td>\n",
       "      <td>158.596916</td>\n",
       "      <td>0.889334</td>\n",
       "      <td>1.0</td>\n",
       "      <td>0.0</td>\n",
       "      <td>-1.301235</td>\n",
       "    </tr>\n",
       "    <tr>\n",
       "      <th>2017-11-03</th>\n",
       "      <td>172.50</td>\n",
       "      <td>160.34625</td>\n",
       "      <td>158.861516</td>\n",
       "      <td>1.484734</td>\n",
       "      <td>1.0</td>\n",
       "      <td>0.0</td>\n",
       "      <td>-0.938078</td>\n",
       "    </tr>\n",
       "    <tr>\n",
       "      <th>2017-11-06</th>\n",
       "      <td>174.25</td>\n",
       "      <td>161.26675</td>\n",
       "      <td>159.149316</td>\n",
       "      <td>2.117434</td>\n",
       "      <td>1.0</td>\n",
       "      <td>0.0</td>\n",
       "      <td>-0.540369</td>\n",
       "    </tr>\n",
       "    <tr>\n",
       "      <th>2017-11-07</th>\n",
       "      <td>174.81</td>\n",
       "      <td>162.21225</td>\n",
       "      <td>159.416116</td>\n",
       "      <td>2.796134</td>\n",
       "      <td>1.0</td>\n",
       "      <td>0.0</td>\n",
       "      <td>-0.102409</td>\n",
       "    </tr>\n",
       "    <tr>\n",
       "      <th>2017-11-09</th>\n",
       "      <td>175.88</td>\n",
       "      <td>163.17875</td>\n",
       "      <td>159.675516</td>\n",
       "      <td>3.503234</td>\n",
       "      <td>1.0</td>\n",
       "      <td>0.0</td>\n",
       "      <td>0.368875</td>\n",
       "    </tr>\n",
       "    <tr>\n",
       "      <th>2017-11-10</th>\n",
       "      <td>174.67</td>\n",
       "      <td>164.11225</td>\n",
       "      <td>159.901916</td>\n",
       "      <td>4.210334</td>\n",
       "      <td>1.0</td>\n",
       "      <td>0.0</td>\n",
       "      <td>0.878001</td>\n",
       "    </tr>\n",
       "    <tr>\n",
       "      <th>2017-11-13</th>\n",
       "      <td>173.97</td>\n",
       "      <td>164.96125</td>\n",
       "      <td>160.101316</td>\n",
       "      <td>4.859934</td>\n",
       "      <td>1.0</td>\n",
       "      <td>0.0</td>\n",
       "      <td>1.423539</td>\n",
       "    </tr>\n",
       "    <tr>\n",
       "      <th>2017-11-14</th>\n",
       "      <td>171.34</td>\n",
       "      <td>165.53425</td>\n",
       "      <td>160.247116</td>\n",
       "      <td>5.287134</td>\n",
       "      <td>1.0</td>\n",
       "      <td>0.0</td>\n",
       "      <td>1.981569</td>\n",
       "    </tr>\n",
       "    <tr>\n",
       "      <th>2017-11-15</th>\n",
       "      <td>169.08</td>\n",
       "      <td>165.96475</td>\n",
       "      <td>160.387116</td>\n",
       "      <td>5.577634</td>\n",
       "      <td>1.0</td>\n",
       "      <td>0.0</td>\n",
       "      <td>2.535232</td>\n",
       "    </tr>\n",
       "    <tr>\n",
       "      <th>2017-11-16</th>\n",
       "      <td>171.10</td>\n",
       "      <td>166.53175</td>\n",
       "      <td>160.570916</td>\n",
       "      <td>5.960834</td>\n",
       "      <td>1.0</td>\n",
       "      <td>0.0</td>\n",
       "      <td>3.082404</td>\n",
       "    </tr>\n",
       "    <tr>\n",
       "      <th>2017-11-17</th>\n",
       "      <td>170.15</td>\n",
       "      <td>167.24025</td>\n",
       "      <td>160.748716</td>\n",
       "      <td>6.491534</td>\n",
       "      <td>1.0</td>\n",
       "      <td>0.0</td>\n",
       "      <td>3.632851</td>\n",
       "    </tr>\n",
       "    <tr>\n",
       "      <th>2017-11-20</th>\n",
       "      <td>169.98</td>\n",
       "      <td>167.93125</td>\n",
       "      <td>160.975716</td>\n",
       "      <td>6.955534</td>\n",
       "      <td>1.0</td>\n",
       "      <td>0.0</td>\n",
       "      <td>4.177817</td>\n",
       "    </tr>\n",
       "    <tr>\n",
       "      <th>2017-11-21</th>\n",
       "      <td>173.14</td>\n",
       "      <td>168.77975</td>\n",
       "      <td>161.208516</td>\n",
       "      <td>7.571234</td>\n",
       "      <td>1.0</td>\n",
       "      <td>0.0</td>\n",
       "      <td>4.734642</td>\n",
       "    </tr>\n",
       "    <tr>\n",
       "      <th>2017-11-22</th>\n",
       "      <td>174.96</td>\n",
       "      <td>169.67275</td>\n",
       "      <td>161.491316</td>\n",
       "      <td>8.181434</td>\n",
       "      <td>1.0</td>\n",
       "      <td>0.0</td>\n",
       "      <td>5.292701</td>\n",
       "    </tr>\n",
       "    <tr>\n",
       "      <th>2017-11-24</th>\n",
       "      <td>174.97</td>\n",
       "      <td>170.60100</td>\n",
       "      <td>161.797716</td>\n",
       "      <td>8.803284</td>\n",
       "      <td>1.0</td>\n",
       "      <td>0.0</td>\n",
       "      <td>5.849855</td>\n",
       "    </tr>\n",
       "    <tr>\n",
       "      <th>2017-11-27</th>\n",
       "      <td>174.09</td>\n",
       "      <td>171.43500</td>\n",
       "      <td>162.113916</td>\n",
       "      <td>9.321084</td>\n",
       "      <td>1.0</td>\n",
       "      <td>0.0</td>\n",
       "      <td>6.393601</td>\n",
       "    </tr>\n",
       "    <tr>\n",
       "      <th>2017-11-28</th>\n",
       "      <td>173.07</td>\n",
       "      <td>171.93600</td>\n",
       "      <td>162.377716</td>\n",
       "      <td>9.558284</td>\n",
       "      <td>1.0</td>\n",
       "      <td>0.0</td>\n",
       "      <td>6.898188</td>\n",
       "    </tr>\n",
       "    <tr>\n",
       "      <th>2017-11-29</th>\n",
       "      <td>169.48</td>\n",
       "      <td>172.07400</td>\n",
       "      <td>162.593916</td>\n",
       "      <td>9.480084</td>\n",
       "      <td>1.0</td>\n",
       "      <td>0.0</td>\n",
       "      <td>7.337334</td>\n",
       "    </tr>\n",
       "    <tr>\n",
       "      <th>2017-11-30</th>\n",
       "      <td>171.85</td>\n",
       "      <td>172.21450</td>\n",
       "      <td>162.856316</td>\n",
       "      <td>9.358184</td>\n",
       "      <td>1.0</td>\n",
       "      <td>0.0</td>\n",
       "      <td>7.712188</td>\n",
       "    </tr>\n",
       "    <tr>\n",
       "      <th>2017-12-01</th>\n",
       "      <td>171.05</td>\n",
       "      <td>172.42250</td>\n",
       "      <td>163.155916</td>\n",
       "      <td>9.266584</td>\n",
       "      <td>1.0</td>\n",
       "      <td>0.0</td>\n",
       "      <td>8.043809</td>\n",
       "    </tr>\n",
       "  </tbody>\n",
       "</table>\n",
       "</div>"
      ],
      "text/plain": [
       "             price        SMA         LMA      MACD  short_long  \\\n",
       "Date                                                              \n",
       "2017-11-02  168.11  159.48625  158.596916  0.889334         1.0   \n",
       "2017-11-03  172.50  160.34625  158.861516  1.484734         1.0   \n",
       "2017-11-06  174.25  161.26675  159.149316  2.117434         1.0   \n",
       "2017-11-07  174.81  162.21225  159.416116  2.796134         1.0   \n",
       "2017-11-09  175.88  163.17875  159.675516  3.503234         1.0   \n",
       "2017-11-10  174.67  164.11225  159.901916  4.210334         1.0   \n",
       "2017-11-13  173.97  164.96125  160.101316  4.859934         1.0   \n",
       "2017-11-14  171.34  165.53425  160.247116  5.287134         1.0   \n",
       "2017-11-15  169.08  165.96475  160.387116  5.577634         1.0   \n",
       "2017-11-16  171.10  166.53175  160.570916  5.960834         1.0   \n",
       "2017-11-17  170.15  167.24025  160.748716  6.491534         1.0   \n",
       "2017-11-20  169.98  167.93125  160.975716  6.955534         1.0   \n",
       "2017-11-21  173.14  168.77975  161.208516  7.571234         1.0   \n",
       "2017-11-22  174.96  169.67275  161.491316  8.181434         1.0   \n",
       "2017-11-24  174.97  170.60100  161.797716  8.803284         1.0   \n",
       "2017-11-27  174.09  171.43500  162.113916  9.321084         1.0   \n",
       "2017-11-28  173.07  171.93600  162.377716  9.558284         1.0   \n",
       "2017-11-29  169.48  172.07400  162.593916  9.480084         1.0   \n",
       "2017-11-30  171.85  172.21450  162.856316  9.358184         1.0   \n",
       "2017-12-01  171.05  172.42250  163.155916  9.266584         1.0   \n",
       "\n",
       "            short_long_signal  signal_line  \n",
       "Date                                        \n",
       "2017-11-02                0.0    -1.301235  \n",
       "2017-11-03                0.0    -0.938078  \n",
       "2017-11-06                0.0    -0.540369  \n",
       "2017-11-07                0.0    -0.102409  \n",
       "2017-11-09                0.0     0.368875  \n",
       "2017-11-10                0.0     0.878001  \n",
       "2017-11-13                0.0     1.423539  \n",
       "2017-11-14                0.0     1.981569  \n",
       "2017-11-15                0.0     2.535232  \n",
       "2017-11-16                0.0     3.082404  \n",
       "2017-11-17                0.0     3.632851  \n",
       "2017-11-20                0.0     4.177817  \n",
       "2017-11-21                0.0     4.734642  \n",
       "2017-11-22                0.0     5.292701  \n",
       "2017-11-24                0.0     5.849855  \n",
       "2017-11-27                0.0     6.393601  \n",
       "2017-11-28                0.0     6.898188  \n",
       "2017-11-29                0.0     7.337334  \n",
       "2017-11-30                0.0     7.712188  \n",
       "2017-12-01                0.0     8.043809  "
      ]
     },
     "execution_count": 36,
     "metadata": {},
     "output_type": "execute_result"
    }
   ],
   "source": [
    "data.tail(20)"
   ]
  },
  {
   "cell_type": "code",
   "execution_count": 37,
   "id": "7e7f2a48",
   "metadata": {},
   "outputs": [],
   "source": [
    "data['macd_signal'] = 0.0"
   ]
  },
  {
   "cell_type": "code",
   "execution_count": 47,
   "id": "d8945210",
   "metadata": {},
   "outputs": [
    {
     "data": {
      "text/html": [
       "<div>\n",
       "<style scoped>\n",
       "    .dataframe tbody tr th:only-of-type {\n",
       "        vertical-align: middle;\n",
       "    }\n",
       "\n",
       "    .dataframe tbody tr th {\n",
       "        vertical-align: top;\n",
       "    }\n",
       "\n",
       "    .dataframe thead th {\n",
       "        text-align: right;\n",
       "    }\n",
       "</style>\n",
       "<table border=\"1\" class=\"dataframe\">\n",
       "  <thead>\n",
       "    <tr style=\"text-align: right;\">\n",
       "      <th></th>\n",
       "      <th>price</th>\n",
       "      <th>SMA</th>\n",
       "      <th>LMA</th>\n",
       "      <th>MACD</th>\n",
       "      <th>short_long</th>\n",
       "      <th>short_long_signal</th>\n",
       "      <th>signal_line</th>\n",
       "      <th>macd_signal</th>\n",
       "    </tr>\n",
       "    <tr>\n",
       "      <th>Date</th>\n",
       "      <th></th>\n",
       "      <th></th>\n",
       "      <th></th>\n",
       "      <th></th>\n",
       "      <th></th>\n",
       "      <th></th>\n",
       "      <th></th>\n",
       "      <th></th>\n",
       "    </tr>\n",
       "  </thead>\n",
       "  <tbody>\n",
       "    <tr>\n",
       "      <th>2007-12-03</th>\n",
       "      <td>22.986003</td>\n",
       "      <td>NaN</td>\n",
       "      <td>NaN</td>\n",
       "      <td>NaN</td>\n",
       "      <td>0.0</td>\n",
       "      <td>NaN</td>\n",
       "      <td>NaN</td>\n",
       "      <td>0.0</td>\n",
       "    </tr>\n",
       "    <tr>\n",
       "      <th>2007-12-04</th>\n",
       "      <td>23.108091</td>\n",
       "      <td>NaN</td>\n",
       "      <td>NaN</td>\n",
       "      <td>NaN</td>\n",
       "      <td>0.0</td>\n",
       "      <td>0.0</td>\n",
       "      <td>NaN</td>\n",
       "      <td>0.0</td>\n",
       "    </tr>\n",
       "    <tr>\n",
       "      <th>2007-12-05</th>\n",
       "      <td>23.839335</td>\n",
       "      <td>NaN</td>\n",
       "      <td>NaN</td>\n",
       "      <td>NaN</td>\n",
       "      <td>0.0</td>\n",
       "      <td>0.0</td>\n",
       "      <td>NaN</td>\n",
       "      <td>0.0</td>\n",
       "    </tr>\n",
       "    <tr>\n",
       "      <th>2007-12-06</th>\n",
       "      <td>24.411582</td>\n",
       "      <td>NaN</td>\n",
       "      <td>NaN</td>\n",
       "      <td>NaN</td>\n",
       "      <td>0.0</td>\n",
       "      <td>0.0</td>\n",
       "      <td>NaN</td>\n",
       "      <td>0.0</td>\n",
       "    </tr>\n",
       "    <tr>\n",
       "      <th>2007-12-07</th>\n",
       "      <td>24.970258</td>\n",
       "      <td>NaN</td>\n",
       "      <td>NaN</td>\n",
       "      <td>NaN</td>\n",
       "      <td>0.0</td>\n",
       "      <td>0.0</td>\n",
       "      <td>NaN</td>\n",
       "      <td>0.0</td>\n",
       "    </tr>\n",
       "  </tbody>\n",
       "</table>\n",
       "</div>"
      ],
      "text/plain": [
       "                price  SMA  LMA  MACD  short_long  short_long_signal  \\\n",
       "Date                                                                   \n",
       "2007-12-03  22.986003  NaN  NaN   NaN         0.0                NaN   \n",
       "2007-12-04  23.108091  NaN  NaN   NaN         0.0                0.0   \n",
       "2007-12-05  23.839335  NaN  NaN   NaN         0.0                0.0   \n",
       "2007-12-06  24.411582  NaN  NaN   NaN         0.0                0.0   \n",
       "2007-12-07  24.970258  NaN  NaN   NaN         0.0                0.0   \n",
       "\n",
       "            signal_line  macd_signal  \n",
       "Date                                  \n",
       "2007-12-03          NaN          0.0  \n",
       "2007-12-04          NaN          0.0  \n",
       "2007-12-05          NaN          0.0  \n",
       "2007-12-06          NaN          0.0  \n",
       "2007-12-07          NaN          0.0  "
      ]
     },
     "execution_count": 47,
     "metadata": {},
     "output_type": "execute_result"
    }
   ],
   "source": [
    "data.head()"
   ]
  },
  {
   "cell_type": "code",
   "execution_count": 38,
   "id": "48933ce5",
   "metadata": {},
   "outputs": [],
   "source": [
    "data['macd_signal'][long_window:] = np.where(data['MACD'][long_window:] \n",
    "                                            > data['signal_line'][long_window:], 1.0, 0.0) "
   ]
  },
  {
   "cell_type": "code",
   "execution_count": 39,
   "id": "815a43b5",
   "metadata": {},
   "outputs": [
    {
     "data": {
      "text/html": [
       "<div>\n",
       "<style scoped>\n",
       "    .dataframe tbody tr th:only-of-type {\n",
       "        vertical-align: middle;\n",
       "    }\n",
       "\n",
       "    .dataframe tbody tr th {\n",
       "        vertical-align: top;\n",
       "    }\n",
       "\n",
       "    .dataframe thead th {\n",
       "        text-align: right;\n",
       "    }\n",
       "</style>\n",
       "<table border=\"1\" class=\"dataframe\">\n",
       "  <thead>\n",
       "    <tr style=\"text-align: right;\">\n",
       "      <th></th>\n",
       "      <th>price</th>\n",
       "      <th>SMA</th>\n",
       "      <th>LMA</th>\n",
       "      <th>MACD</th>\n",
       "      <th>short_long</th>\n",
       "      <th>short_long_signal</th>\n",
       "      <th>signal_line</th>\n",
       "      <th>macd_signal</th>\n",
       "    </tr>\n",
       "    <tr>\n",
       "      <th>Date</th>\n",
       "      <th></th>\n",
       "      <th></th>\n",
       "      <th></th>\n",
       "      <th></th>\n",
       "      <th></th>\n",
       "      <th></th>\n",
       "      <th></th>\n",
       "      <th></th>\n",
       "    </tr>\n",
       "  </thead>\n",
       "  <tbody>\n",
       "    <tr>\n",
       "      <th>2007-12-03</th>\n",
       "      <td>22.986003</td>\n",
       "      <td>NaN</td>\n",
       "      <td>NaN</td>\n",
       "      <td>NaN</td>\n",
       "      <td>0.0</td>\n",
       "      <td>NaN</td>\n",
       "      <td>NaN</td>\n",
       "      <td>0.0</td>\n",
       "    </tr>\n",
       "    <tr>\n",
       "      <th>2007-12-04</th>\n",
       "      <td>23.108091</td>\n",
       "      <td>NaN</td>\n",
       "      <td>NaN</td>\n",
       "      <td>NaN</td>\n",
       "      <td>0.0</td>\n",
       "      <td>0.0</td>\n",
       "      <td>NaN</td>\n",
       "      <td>0.0</td>\n",
       "    </tr>\n",
       "    <tr>\n",
       "      <th>2007-12-05</th>\n",
       "      <td>23.839335</td>\n",
       "      <td>NaN</td>\n",
       "      <td>NaN</td>\n",
       "      <td>NaN</td>\n",
       "      <td>0.0</td>\n",
       "      <td>0.0</td>\n",
       "      <td>NaN</td>\n",
       "      <td>0.0</td>\n",
       "    </tr>\n",
       "    <tr>\n",
       "      <th>2007-12-06</th>\n",
       "      <td>24.411582</td>\n",
       "      <td>NaN</td>\n",
       "      <td>NaN</td>\n",
       "      <td>NaN</td>\n",
       "      <td>0.0</td>\n",
       "      <td>0.0</td>\n",
       "      <td>NaN</td>\n",
       "      <td>0.0</td>\n",
       "    </tr>\n",
       "    <tr>\n",
       "      <th>2007-12-07</th>\n",
       "      <td>24.970258</td>\n",
       "      <td>NaN</td>\n",
       "      <td>NaN</td>\n",
       "      <td>NaN</td>\n",
       "      <td>0.0</td>\n",
       "      <td>0.0</td>\n",
       "      <td>NaN</td>\n",
       "      <td>0.0</td>\n",
       "    </tr>\n",
       "  </tbody>\n",
       "</table>\n",
       "</div>"
      ],
      "text/plain": [
       "                price  SMA  LMA  MACD  short_long  short_long_signal  \\\n",
       "Date                                                                   \n",
       "2007-12-03  22.986003  NaN  NaN   NaN         0.0                NaN   \n",
       "2007-12-04  23.108091  NaN  NaN   NaN         0.0                0.0   \n",
       "2007-12-05  23.839335  NaN  NaN   NaN         0.0                0.0   \n",
       "2007-12-06  24.411582  NaN  NaN   NaN         0.0                0.0   \n",
       "2007-12-07  24.970258  NaN  NaN   NaN         0.0                0.0   \n",
       "\n",
       "            signal_line  macd_signal  \n",
       "Date                                  \n",
       "2007-12-03          NaN          0.0  \n",
       "2007-12-04          NaN          0.0  \n",
       "2007-12-05          NaN          0.0  \n",
       "2007-12-06          NaN          0.0  \n",
       "2007-12-07          NaN          0.0  "
      ]
     },
     "execution_count": 39,
     "metadata": {},
     "output_type": "execute_result"
    }
   ],
   "source": [
    "data.head()"
   ]
  },
  {
   "cell_type": "code",
   "execution_count": 40,
   "id": "169498a6",
   "metadata": {},
   "outputs": [
    {
     "data": {
      "text/plain": [
       "<AxesSubplot:xlabel='Date'>"
      ]
     },
     "execution_count": 40,
     "metadata": {},
     "output_type": "execute_result"
    },
    {
     "data": {
      "image/png": "[encoded data removed]",
      "text/plain": [
       "<Figure size 432x288 with 1 Axes>"
      ]
     },
     "metadata": {
      "needs_background": "light"
     },
     "output_type": "display_data"
    }
   ],
   "source": [
    "data['macd_signal'].plot()"
   ]
  },
  {
   "cell_type": "code",
   "execution_count": 41,
   "id": "ccb58de7",
   "metadata": {},
   "outputs": [],
   "source": [
    "data['macd_signalline_signal'] = data['macd_signal'].diff()"
   ]
  },
  {
   "cell_type": "code",
   "execution_count": 42,
   "id": "af2e0a32",
   "metadata": {},
   "outputs": [
    {
     "data": {
      "text/plain": [
       "<AxesSubplot:xlabel='Date'>"
      ]
     },
     "execution_count": 42,
     "metadata": {},
     "output_type": "execute_result"
    },
    {
     "data": {
      "image/png": "[encoded data removed]",
      "text/plain": [
       "<Figure size 432x288 with 1 Axes>"
      ]
     },
     "metadata": {
      "needs_background": "light"
     },
     "output_type": "display_data"
    }
   ],
   "source": [
    "data['macd_signalline_signal'].plot()"
   ]
  },
  {
   "cell_type": "code",
   "execution_count": 43,
   "id": "8b1daac8",
   "metadata": {},
   "outputs": [
    {
     "data": {
      "text/plain": [
       "<AxesSubplot:xlabel='Date'>"
      ]
     },
     "execution_count": 43,
     "metadata": {},
     "output_type": "execute_result"
    },
    {
     "data": {
      "image/png": "[encoded data removed]",
      "text/plain": [
       "<Figure size 432x288 with 1 Axes>"
      ]
     },
     "metadata": {
      "needs_background": "light"
     },
     "output_type": "display_data"
    }
   ],
   "source": [
    "data['short_long_signal'].plot()"
   ]
  },
  {
   "cell_type": "code",
   "execution_count": null,
   "id": "196bada0",
   "metadata": {},
   "outputs": [],
   "source": []
  },
  {
   "cell_type": "code",
   "execution_count": null,
   "id": "e20e6ffa",
   "metadata": {},
   "outputs": [],
   "source": []
  }
 ],
 "metadata": {
  "kernelspec": {
   "display_name": "Python 3 (ipykernel)",
   "language": "python",
   "name": "python3"
  },
  "language_info": {
   "codemirror_mode": {
    "name": "ipython",
    "version": 3
   },
   "file_extension": ".py",
   "mimetype": "text/x-python",
   "name": "python",
   "nbconvert_exporter": "python",
   "pygments_lexer": "ipython3",
   "version": "3.9.7"
  }
 },
 "nbformat": 4,
 "nbformat_minor": 5
}

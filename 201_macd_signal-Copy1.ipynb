{
 "cells": [
  {
   "cell_type": "code",
   "execution_count": 15,
   "id": "db2b395c",
   "metadata": {},
   "outputs": [],
   "source": [
    "import pandas as pd\n",
    "import numpy as np\n",
    "from mod_my_utils.read_write_data import get_price_csv"
   ]
  },
  {
   "cell_type": "code",
   "execution_count": 16,
   "id": "7051dcb5",
   "metadata": {},
   "outputs": [],
   "source": [
    "folder_path = 'data/'\n",
    "stock_name = 'AAPL'\n",
    "index_col = 'Date'"
   ]
  },
  {
   "cell_type": "code",
   "execution_count": 17,
   "id": "93205543",
   "metadata": {},
   "outputs": [
    {
     "name": "stdout",
     "output_type": "stream",
     "text": [
      "stock name:  AAPL\n"
     ]
    }
   ],
   "source": [
    "stock_data = get_price_csv(folder_name=folder_path,symbol=stock_name, index_col=index_col)"
   ]
  },
  {
   "cell_type": "code",
   "execution_count": 18,
   "id": "7adc54dc",
   "metadata": {},
   "outputs": [
    {
     "data": {
      "text/html": [
       "<div>\n",
       "<style scoped>\n",
       "    .dataframe tbody tr th:only-of-type {\n",
       "        vertical-align: middle;\n",
       "    }\n",
       "\n",
       "    .dataframe tbody tr th {\n",
       "        vertical-align: top;\n",
       "    }\n",
       "\n",
       "    .dataframe thead th {\n",
       "        text-align: right;\n",
       "    }\n",
       "</style>\n",
       "<table border=\"1\" class=\"dataframe\">\n",
       "  <thead>\n",
       "    <tr style=\"text-align: right;\">\n",
       "      <th></th>\n",
       "      <th>Open</th>\n",
       "      <th>High</th>\n",
       "      <th>Low</th>\n",
       "      <th>Close</th>\n",
       "      <th>Volume</th>\n",
       "      <th>Ex-Dividend</th>\n",
       "      <th>Split Ratio</th>\n",
       "      <th>Adj. Open</th>\n",
       "      <th>Adj. High</th>\n",
       "      <th>Adj. Low</th>\n",
       "      <th>Adj. Close</th>\n",
       "      <th>Adj. Volume</th>\n",
       "    </tr>\n",
       "    <tr>\n",
       "      <th>Date</th>\n",
       "      <th></th>\n",
       "      <th></th>\n",
       "      <th></th>\n",
       "      <th></th>\n",
       "      <th></th>\n",
       "      <th></th>\n",
       "      <th></th>\n",
       "      <th></th>\n",
       "      <th></th>\n",
       "      <th></th>\n",
       "      <th></th>\n",
       "      <th></th>\n",
       "    </tr>\n",
       "  </thead>\n",
       "  <tbody>\n",
       "    <tr>\n",
       "      <th>2007-12-03</th>\n",
       "      <td>181.86</td>\n",
       "      <td>184.14</td>\n",
       "      <td>177.70</td>\n",
       "      <td>178.8600</td>\n",
       "      <td>34338200.0</td>\n",
       "      <td>0.0</td>\n",
       "      <td>1.0</td>\n",
       "      <td>23.371545</td>\n",
       "      <td>23.664556</td>\n",
       "      <td>22.836927</td>\n",
       "      <td>22.986003</td>\n",
       "      <td>240367400.0</td>\n",
       "    </tr>\n",
       "    <tr>\n",
       "      <th>2007-12-04</th>\n",
       "      <td>177.15</td>\n",
       "      <td>180.90</td>\n",
       "      <td>176.99</td>\n",
       "      <td>179.8100</td>\n",
       "      <td>27635700.0</td>\n",
       "      <td>0.0</td>\n",
       "      <td>1.0</td>\n",
       "      <td>22.766244</td>\n",
       "      <td>23.248171</td>\n",
       "      <td>22.745682</td>\n",
       "      <td>23.108091</td>\n",
       "      <td>193449900.0</td>\n",
       "    </tr>\n",
       "    <tr>\n",
       "      <th>2007-12-05</th>\n",
       "      <td>182.89</td>\n",
       "      <td>186.00</td>\n",
       "      <td>182.41</td>\n",
       "      <td>185.5000</td>\n",
       "      <td>31871500.0</td>\n",
       "      <td>0.0</td>\n",
       "      <td>1.0</td>\n",
       "      <td>23.503914</td>\n",
       "      <td>23.903592</td>\n",
       "      <td>23.442227</td>\n",
       "      <td>23.839335</td>\n",
       "      <td>223100500.0</td>\n",
       "    </tr>\n",
       "    <tr>\n",
       "      <th>2007-12-06</th>\n",
       "      <td>186.19</td>\n",
       "      <td>190.10</td>\n",
       "      <td>186.12</td>\n",
       "      <td>189.9528</td>\n",
       "      <td>32136100.0</td>\n",
       "      <td>0.0</td>\n",
       "      <td>1.0</td>\n",
       "      <td>23.928010</td>\n",
       "      <td>24.430500</td>\n",
       "      <td>23.919014</td>\n",
       "      <td>24.411582</td>\n",
       "      <td>224952700.0</td>\n",
       "    </tr>\n",
       "    <tr>\n",
       "      <th>2007-12-07</th>\n",
       "      <td>190.54</td>\n",
       "      <td>194.99</td>\n",
       "      <td>188.04</td>\n",
       "      <td>194.3000</td>\n",
       "      <td>38073800.0</td>\n",
       "      <td>0.0</td>\n",
       "      <td>1.0</td>\n",
       "      <td>24.487046</td>\n",
       "      <td>25.058933</td>\n",
       "      <td>24.165761</td>\n",
       "      <td>24.970258</td>\n",
       "      <td>266516600.0</td>\n",
       "    </tr>\n",
       "  </tbody>\n",
       "</table>\n",
       "</div>"
      ],
      "text/plain": [
       "              Open    High     Low     Close      Volume  Ex-Dividend  \\\n",
       "Date                                                                    \n",
       "2007-12-03  181.86  184.14  177.70  178.8600  34338200.0          0.0   \n",
       "2007-12-04  177.15  180.90  176.99  179.8100  27635700.0          0.0   \n",
       "2007-12-05  182.89  186.00  182.41  185.5000  31871500.0          0.0   \n",
       "2007-12-06  186.19  190.10  186.12  189.9528  32136100.0          0.0   \n",
       "2007-12-07  190.54  194.99  188.04  194.3000  38073800.0          0.0   \n",
       "\n",
       "            Split Ratio  Adj. Open  Adj. High   Adj. Low  Adj. Close  \\\n",
       "Date                                                                   \n",
       "2007-12-03          1.0  23.371545  23.664556  22.836927   22.986003   \n",
       "2007-12-04          1.0  22.766244  23.248171  22.745682   23.108091   \n",
       "2007-12-05          1.0  23.503914  23.903592  23.442227   23.839335   \n",
       "2007-12-06          1.0  23.928010  24.430500  23.919014   24.411582   \n",
       "2007-12-07          1.0  24.487046  25.058933  24.165761   24.970258   \n",
       "\n",
       "            Adj. Volume  \n",
       "Date                     \n",
       "2007-12-03  240367400.0  \n",
       "2007-12-04  193449900.0  \n",
       "2007-12-05  223100500.0  \n",
       "2007-12-06  224952700.0  \n",
       "2007-12-07  266516600.0  "
      ]
     },
     "execution_count": 18,
     "metadata": {},
     "output_type": "execute_result"
    }
   ],
   "source": [
    "stock_data.head()"
   ]
  },
  {
   "cell_type": "code",
   "execution_count": 19,
   "id": "6c84a0fa",
   "metadata": {},
   "outputs": [
    {
     "data": {
      "text/html": [
       "<div>\n",
       "<style scoped>\n",
       "    .dataframe tbody tr th:only-of-type {\n",
       "        vertical-align: middle;\n",
       "    }\n",
       "\n",
       "    .dataframe tbody tr th {\n",
       "        vertical-align: top;\n",
       "    }\n",
       "\n",
       "    .dataframe thead th {\n",
       "        text-align: right;\n",
       "    }\n",
       "</style>\n",
       "<table border=\"1\" class=\"dataframe\">\n",
       "  <thead>\n",
       "    <tr style=\"text-align: right;\">\n",
       "      <th></th>\n",
       "      <th>Price</th>\n",
       "    </tr>\n",
       "    <tr>\n",
       "      <th>Date</th>\n",
       "      <th></th>\n",
       "    </tr>\n",
       "  </thead>\n",
       "  <tbody>\n",
       "    <tr>\n",
       "      <th>2007-12-03</th>\n",
       "      <td>22.986003</td>\n",
       "    </tr>\n",
       "    <tr>\n",
       "      <th>2007-12-04</th>\n",
       "      <td>23.108091</td>\n",
       "    </tr>\n",
       "    <tr>\n",
       "      <th>2007-12-05</th>\n",
       "      <td>23.839335</td>\n",
       "    </tr>\n",
       "    <tr>\n",
       "      <th>2007-12-06</th>\n",
       "      <td>24.411582</td>\n",
       "    </tr>\n",
       "    <tr>\n",
       "      <th>2007-12-07</th>\n",
       "      <td>24.970258</td>\n",
       "    </tr>\n",
       "  </tbody>\n",
       "</table>\n",
       "</div>"
      ],
      "text/plain": [
       "                Price\n",
       "Date                 \n",
       "2007-12-03  22.986003\n",
       "2007-12-04  23.108091\n",
       "2007-12-05  23.839335\n",
       "2007-12-06  24.411582\n",
       "2007-12-07  24.970258"
      ]
     },
     "execution_count": 19,
     "metadata": {},
     "output_type": "execute_result"
    }
   ],
   "source": [
    "data = stock_data[[\"Adj. Close\"]].copy()\n",
    "data.columns = [\"Price\"] \n",
    "data.head()"
   ]
  },
  {
   "cell_type": "code",
   "execution_count": 20,
   "id": "7a273943",
   "metadata": {},
   "outputs": [
    {
     "data": {
      "text/html": [
       "<div>\n",
       "<style scoped>\n",
       "    .dataframe tbody tr th:only-of-type {\n",
       "        vertical-align: middle;\n",
       "    }\n",
       "\n",
       "    .dataframe tbody tr th {\n",
       "        vertical-align: top;\n",
       "    }\n",
       "\n",
       "    .dataframe thead th {\n",
       "        text-align: right;\n",
       "    }\n",
       "</style>\n",
       "<table border=\"1\" class=\"dataframe\">\n",
       "  <thead>\n",
       "    <tr style=\"text-align: right;\">\n",
       "      <th></th>\n",
       "      <th>Price</th>\n",
       "    </tr>\n",
       "    <tr>\n",
       "      <th>Date</th>\n",
       "      <th></th>\n",
       "    </tr>\n",
       "  </thead>\n",
       "  <tbody>\n",
       "    <tr>\n",
       "      <th>2007-12-03</th>\n",
       "      <td>22.986003</td>\n",
       "    </tr>\n",
       "    <tr>\n",
       "      <th>2007-12-04</th>\n",
       "      <td>23.108091</td>\n",
       "    </tr>\n",
       "    <tr>\n",
       "      <th>2007-12-05</th>\n",
       "      <td>23.839335</td>\n",
       "    </tr>\n",
       "    <tr>\n",
       "      <th>2007-12-06</th>\n",
       "      <td>24.411582</td>\n",
       "    </tr>\n",
       "    <tr>\n",
       "      <th>2007-12-07</th>\n",
       "      <td>24.970258</td>\n",
       "    </tr>\n",
       "  </tbody>\n",
       "</table>\n",
       "</div>"
      ],
      "text/plain": [
       "                Price\n",
       "Date                 \n",
       "2007-12-03  22.986003\n",
       "2007-12-04  23.108091\n",
       "2007-12-05  23.839335\n",
       "2007-12-06  24.411582\n",
       "2007-12-07  24.970258"
      ]
     },
     "execution_count": 20,
     "metadata": {},
     "output_type": "execute_result"
    }
   ],
   "source": [
    "data.head()"
   ]
  },
  {
   "cell_type": "code",
   "execution_count": 21,
   "id": "3e2fcd9f",
   "metadata": {},
   "outputs": [],
   "source": [
    "short_window = 50\n",
    "long_window = 250\n",
    "\n",
    "short_window = 12\n",
    "long_window = 26"
   ]
  },
  {
   "cell_type": "code",
   "execution_count": 22,
   "id": "90dba1f4",
   "metadata": {},
   "outputs": [],
   "source": [
    "data['MA50'] = data['Price'].rolling(window=50, min_periods=1).mean()"
   ]
  },
  {
   "cell_type": "code",
   "execution_count": 23,
   "id": "38ad3416",
   "metadata": {},
   "outputs": [],
   "source": [
    "data['MA250'] = data['Price'].rolling(window=250, min_periods=1).mean()"
   ]
  },
  {
   "cell_type": "code",
   "execution_count": 24,
   "id": "fd768650",
   "metadata": {},
   "outputs": [
    {
     "data": {
      "text/html": [
       "<div>\n",
       "<style scoped>\n",
       "    .dataframe tbody tr th:only-of-type {\n",
       "        vertical-align: middle;\n",
       "    }\n",
       "\n",
       "    .dataframe tbody tr th {\n",
       "        vertical-align: top;\n",
       "    }\n",
       "\n",
       "    .dataframe thead th {\n",
       "        text-align: right;\n",
       "    }\n",
       "</style>\n",
       "<table border=\"1\" class=\"dataframe\">\n",
       "  <thead>\n",
       "    <tr style=\"text-align: right;\">\n",
       "      <th></th>\n",
       "      <th>Price</th>\n",
       "      <th>MA50</th>\n",
       "      <th>MA250</th>\n",
       "    </tr>\n",
       "    <tr>\n",
       "      <th>Date</th>\n",
       "      <th></th>\n",
       "      <th></th>\n",
       "      <th></th>\n",
       "    </tr>\n",
       "  </thead>\n",
       "  <tbody>\n",
       "    <tr>\n",
       "      <th>2007-12-03</th>\n",
       "      <td>22.986003</td>\n",
       "      <td>22.986003</td>\n",
       "      <td>22.986003</td>\n",
       "    </tr>\n",
       "    <tr>\n",
       "      <th>2007-12-04</th>\n",
       "      <td>23.108091</td>\n",
       "      <td>23.047047</td>\n",
       "      <td>23.047047</td>\n",
       "    </tr>\n",
       "    <tr>\n",
       "      <th>2007-12-05</th>\n",
       "      <td>23.839335</td>\n",
       "      <td>23.311143</td>\n",
       "      <td>23.311143</td>\n",
       "    </tr>\n",
       "    <tr>\n",
       "      <th>2007-12-06</th>\n",
       "      <td>24.411582</td>\n",
       "      <td>23.586253</td>\n",
       "      <td>23.586253</td>\n",
       "    </tr>\n",
       "    <tr>\n",
       "      <th>2007-12-07</th>\n",
       "      <td>24.970258</td>\n",
       "      <td>23.863054</td>\n",
       "      <td>23.863054</td>\n",
       "    </tr>\n",
       "  </tbody>\n",
       "</table>\n",
       "</div>"
      ],
      "text/plain": [
       "                Price       MA50      MA250\n",
       "Date                                       \n",
       "2007-12-03  22.986003  22.986003  22.986003\n",
       "2007-12-04  23.108091  23.047047  23.047047\n",
       "2007-12-05  23.839335  23.311143  23.311143\n",
       "2007-12-06  24.411582  23.586253  23.586253\n",
       "2007-12-07  24.970258  23.863054  23.863054"
      ]
     },
     "execution_count": 24,
     "metadata": {},
     "output_type": "execute_result"
    }
   ],
   "source": [
    "data.head()"
   ]
  },
  {
   "cell_type": "code",
   "execution_count": 25,
   "id": "17a275cd",
   "metadata": {},
   "outputs": [],
   "source": [
    "data['MACD'] = data['MA50'] - data['MA250']"
   ]
  },
  {
   "cell_type": "code",
   "execution_count": 26,
   "id": "3569b5ee",
   "metadata": {},
   "outputs": [
    {
     "data": {
      "text/html": [
       "<div>\n",
       "<style scoped>\n",
       "    .dataframe tbody tr th:only-of-type {\n",
       "        vertical-align: middle;\n",
       "    }\n",
       "\n",
       "    .dataframe tbody tr th {\n",
       "        vertical-align: top;\n",
       "    }\n",
       "\n",
       "    .dataframe thead th {\n",
       "        text-align: right;\n",
       "    }\n",
       "</style>\n",
       "<table border=\"1\" class=\"dataframe\">\n",
       "  <thead>\n",
       "    <tr style=\"text-align: right;\">\n",
       "      <th></th>\n",
       "      <th>Price</th>\n",
       "      <th>MA50</th>\n",
       "      <th>MA250</th>\n",
       "      <th>MACD</th>\n",
       "    </tr>\n",
       "    <tr>\n",
       "      <th>Date</th>\n",
       "      <th></th>\n",
       "      <th></th>\n",
       "      <th></th>\n",
       "      <th></th>\n",
       "    </tr>\n",
       "  </thead>\n",
       "  <tbody>\n",
       "    <tr>\n",
       "      <th>2007-12-03</th>\n",
       "      <td>22.986003</td>\n",
       "      <td>22.986003</td>\n",
       "      <td>22.986003</td>\n",
       "      <td>0.000000</td>\n",
       "    </tr>\n",
       "    <tr>\n",
       "      <th>2007-12-04</th>\n",
       "      <td>23.108091</td>\n",
       "      <td>23.047047</td>\n",
       "      <td>23.047047</td>\n",
       "      <td>0.000000</td>\n",
       "    </tr>\n",
       "    <tr>\n",
       "      <th>2007-12-05</th>\n",
       "      <td>23.839335</td>\n",
       "      <td>23.311143</td>\n",
       "      <td>23.311143</td>\n",
       "      <td>0.000000</td>\n",
       "    </tr>\n",
       "    <tr>\n",
       "      <th>2007-12-06</th>\n",
       "      <td>24.411582</td>\n",
       "      <td>23.586253</td>\n",
       "      <td>23.586253</td>\n",
       "      <td>0.000000</td>\n",
       "    </tr>\n",
       "    <tr>\n",
       "      <th>2007-12-07</th>\n",
       "      <td>24.970258</td>\n",
       "      <td>23.863054</td>\n",
       "      <td>23.863054</td>\n",
       "      <td>0.000000</td>\n",
       "    </tr>\n",
       "    <tr>\n",
       "      <th>...</th>\n",
       "      <td>...</td>\n",
       "      <td>...</td>\n",
       "      <td>...</td>\n",
       "      <td>...</td>\n",
       "    </tr>\n",
       "    <tr>\n",
       "      <th>2008-05-05</th>\n",
       "      <td>23.740380</td>\n",
       "      <td>18.657731</td>\n",
       "      <td>19.790365</td>\n",
       "      <td>-1.132634</td>\n",
       "    </tr>\n",
       "    <tr>\n",
       "      <th>2008-05-06</th>\n",
       "      <td>23.988412</td>\n",
       "      <td>18.829734</td>\n",
       "      <td>19.829599</td>\n",
       "      <td>-0.999865</td>\n",
       "    </tr>\n",
       "    <tr>\n",
       "      <th>2008-05-07</th>\n",
       "      <td>23.465360</td>\n",
       "      <td>18.992792</td>\n",
       "      <td>19.863263</td>\n",
       "      <td>-0.870471</td>\n",
       "    </tr>\n",
       "    <tr>\n",
       "      <th>2008-05-08</th>\n",
       "      <td>23.782789</td>\n",
       "      <td>19.152407</td>\n",
       "      <td>19.899222</td>\n",
       "      <td>-0.746816</td>\n",
       "    </tr>\n",
       "    <tr>\n",
       "      <th>2008-05-09</th>\n",
       "      <td>23.575882</td>\n",
       "      <td>19.290019</td>\n",
       "      <td>19.932646</td>\n",
       "      <td>-0.642627</td>\n",
       "    </tr>\n",
       "  </tbody>\n",
       "</table>\n",
       "<p>110 rows × 4 columns</p>\n",
       "</div>"
      ],
      "text/plain": [
       "                Price       MA50      MA250      MACD\n",
       "Date                                                 \n",
       "2007-12-03  22.986003  22.986003  22.986003  0.000000\n",
       "2007-12-04  23.108091  23.047047  23.047047  0.000000\n",
       "2007-12-05  23.839335  23.311143  23.311143  0.000000\n",
       "2007-12-06  24.411582  23.586253  23.586253  0.000000\n",
       "2007-12-07  24.970258  23.863054  23.863054  0.000000\n",
       "...               ...        ...        ...       ...\n",
       "2008-05-05  23.740380  18.657731  19.790365 -1.132634\n",
       "2008-05-06  23.988412  18.829734  19.829599 -0.999865\n",
       "2008-05-07  23.465360  18.992792  19.863263 -0.870471\n",
       "2008-05-08  23.782789  19.152407  19.899222 -0.746816\n",
       "2008-05-09  23.575882  19.290019  19.932646 -0.642627\n",
       "\n",
       "[110 rows x 4 columns]"
      ]
     },
     "execution_count": 26,
     "metadata": {},
     "output_type": "execute_result"
    }
   ],
   "source": [
    "data.head(110)"
   ]
  },
  {
   "cell_type": "code",
   "execution_count": 27,
   "id": "cd29190b",
   "metadata": {},
   "outputs": [
    {
     "data": {
      "text/plain": [
       "<AxesSubplot:xlabel='Date'>"
      ]
     },
     "execution_count": 27,
     "metadata": {},
     "output_type": "execute_result"
    },
    {
     "data": {
      "image/png": "[encoded data removed]",
      "text/plain": [
       "<Figure size 432x288 with 1 Axes>"
      ]
     },
     "metadata": {
      "needs_background": "light"
     },
     "output_type": "display_data"
    }
   ],
   "source": [
    "data.plot()"
   ]
  },
  {
   "cell_type": "code",
   "execution_count": 31,
   "id": "c692f6fe",
   "metadata": {},
   "outputs": [
    {
     "data": {
      "text/plain": [
       "<AxesSubplot:xlabel='Date'>"
      ]
     },
     "execution_count": 31,
     "metadata": {},
     "output_type": "execute_result"
    },
    {
     "data": {
      "image/png": "[encoded data removed]",
      "text/plain": [
       "<Figure size 864x576 with 1 Axes>"
      ]
     },
     "metadata": {
      "needs_background": "light"
     },
     "output_type": "display_data"
    }
   ],
   "source": [
    "data[['MACD', 'Price']].plot(figsize=(12,8))"
   ]
  },
  {
   "cell_type": "code",
   "execution_count": null,
   "id": "8ab6accd",
   "metadata": {},
   "outputs": [],
   "source": []
  },
  {
   "cell_type": "code",
   "execution_count": null,
   "id": "4cd75149",
   "metadata": {},
   "outputs": [],
   "source": []
  },
  {
   "cell_type": "code",
   "execution_count": null,
   "id": "833a341c",
   "metadata": {},
   "outputs": [],
   "source": []
  },
  {
   "cell_type": "code",
   "execution_count": null,
   "id": "a0f528d1",
   "metadata": {},
   "outputs": [],
   "source": []
  },
  {
   "cell_type": "code",
   "execution_count": 38,
   "id": "8917ef55",
   "metadata": {},
   "outputs": [
    {
     "data": {
      "text/plain": [
       "<AxesSubplot:xlabel='Date'>"
      ]
     },
     "execution_count": 38,
     "metadata": {},
     "output_type": "execute_result"
    },
    {
     "data": {
      "image/png": "[encoded data removed]",
      "text/plain": [
       "<Figure size 864x216 with 1 Axes>"
      ]
     },
     "metadata": {
      "needs_background": "light"
     },
     "output_type": "display_data"
    }
   ],
   "source": [
    "data[['MA50', 'MA250']].plot(figsize=(12,3))"
   ]
  },
  {
   "cell_type": "code",
   "execution_count": 37,
   "id": "e6bce5db",
   "metadata": {},
   "outputs": [
    {
     "data": {
      "text/plain": [
       "<AxesSubplot:xlabel='Date'>"
      ]
     },
     "execution_count": 37,
     "metadata": {},
     "output_type": "execute_result"
    },
    {
     "data": {
      "image/png": "[encoded data removed]",
      "text/plain": [
       "<Figure size 864x216 with 1 Axes>"
      ]
     },
     "metadata": {
      "needs_background": "light"
     },
     "output_type": "display_data"
    }
   ],
   "source": [
    "data['MACD'].plot(figsize=(12,3))"
   ]
  },
  {
   "cell_type": "markdown",
   "id": "29c47e0a",
   "metadata": {},
   "source": [
    "<img src='img/macd_signal1.png'>"
   ]
  },
  {
   "cell_type": "markdown",
   "id": "2044e328",
   "metadata": {},
   "source": [
    "<img src='img/macd_signal.png'>"
   ]
  },
  {
   "cell_type": "markdown",
   "id": "fe1e58f8",
   "metadata": {},
   "source": [
    "if macd > 0:\n",
    "middle = 1\n",
    "else:\n",
    "middle = 0\n",
    "\n",
    "\n",
    "diff(middle)"
   ]
  },
  {
   "cell_type": "code",
   "execution_count": null,
   "id": "e7c25110",
   "metadata": {},
   "outputs": [],
   "source": [
    "if macd > 0:\n",
    "    1\n",
    "    else:\n",
    "        0\n",
    "        \n",
    "        diff"
   ]
  },
  {
   "cell_type": "code",
   "execution_count": null,
   "id": "c5ee896d",
   "metadata": {},
   "outputs": [],
   "source": [
    "SMA crosses LMA from top:\n",
    "    -1\n",
    "SMA crosses LMA from bottom:\n",
    "    1\n",
    "else:\n",
    "    0"
   ]
  },
  {
   "cell_type": "code",
   "execution_count": null,
   "id": "0c7d8575",
   "metadata": {},
   "outputs": [],
   "source": [
    "macd > 0\n",
    "short - long > 0\n",
    "short > long"
   ]
  },
  {
   "cell_type": "markdown",
   "id": "2a7d39cb",
   "metadata": {},
   "source": [
    "https://chartink.com/screener/moving-average-crossover"
   ]
  },
  {
   "cell_type": "code",
   "execution_count": null,
   "id": "0dc9d133",
   "metadata": {},
   "outputs": [],
   "source": [
    "NYSE\n",
    "NSE\n",
    "\n",
    "100 stocks\n",
    "how will you automate using the scanner from chartlink\n",
    "\n",
    "\n",
    "for stock in stocklist:\n",
    "    "
   ]
  }
 ],
 "metadata": {
  "kernelspec": {
   "display_name": "Python 3 (ipykernel)",
   "language": "python",
   "name": "python3"
  },
  "language_info": {
   "codemirror_mode": {
    "name": "ipython",
    "version": 3
   },
   "file_extension": ".py",
   "mimetype": "text/x-python",
   "name": "python",
   "nbconvert_exporter": "python",
   "pygments_lexer": "ipython3",
   "version": "3.9.7"
  }
 },
 "nbformat": 4,
 "nbformat_minor": 5
}
